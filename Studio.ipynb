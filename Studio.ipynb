{
    "metadata": {
        "kernelspec": {
            "name": "SQL",
            "display_name": "SQL",
            "language": "sql"
        },
        "language_info": {
            "name": "sql",
            "version": ""
        },
        "extensions": {
            "azuredatastudio": {
                "version": 1,
                "views": []
            }
        }
    },
    "nbformat_minor": 2,
    "nbformat": 4,
    "cells": [
        {
            "cell_type": "markdown",
            "source": [
                "# Lesson 14 Studio:  A Library Service\n",
                "\n",
                "## Setting Up Your Data\n",
                "\n",
                "You will be creating 5 new tables within your own schema.\n",
                "\n",
                "4 of the tables can be populated using the starter code which can be found in the folder \"[Starter Code](https://github.com/speudusa/SQL-Part-5-Studio/tree/master/Starter%20Code)\" in the studio GitHub repository. \n",
                "\n",
                "After setting up the data you should have the following five tables:\n",
                "\n",
                "1. book\n",
                "2. author\n",
                "3. patron\n",
                "4. genre\n",
                "5. loan"
            ],
            "metadata": {
                "azdata_cell_guid": "928fed11-edfb-4971-8795-99e1a2479024"
            },
            "attachments": {}
        },
        {
            "cell_type": "markdown",
            "source": [
                "## **Part A: Setting Up Your Tables**\n",
                "\n",
                "### **Book Table**\n",
                "\n",
                "To create the **book** table, you can use the following SQL query:\n",
                "\n",
                "```\n",
                "CREATE TABLE [DB].[schema].book (\n",
                "    book_id INT IDENTITY(1,1) PRIMARY KEY, \n",
                "    author_id INT,\n",
                "    title VARCHAR(255),\n",
                "    isbn INT,\n",
                "    available BIT,\n",
                "    genre_id INT\n",
                ");\n",
                "```\n",
                "\n",
                "_A few notes on this syntax:_\n",
                "\n",
                "> On Auto-incrementing:\n",
                "> \n",
                "> We are going to have SQL help us assign book\\_id numbers using auto-incrementing using the **IDENTITY** property.\n",
                "> \n",
                "> The [IDENTITY](https://docs.microsoft.com/en-us/sql/t-sql/statements/create-table-transact-sql-identity-property?view=sql-server-ver15) syntax is as follows: **IDENTITY(seed, increment)**.  We want to seed the first id number as 1 in this table and increment by 1 for each following book\\_id.\n",
                "\n",
                "> On BIT datatypes:\n",
                "> \n",
                "> For the **available** column, we are going to use the [BIT datatype](https://docs.microsoft.com/en-us/sql/t-sql/data-types/bit-transact-sql?view=sql-server-ver15) to represent True or False values.  Bit allows three entries: 0 which will stand for false,  1 which will stand for true,  and NULL.\n",
                "\n",
                "> On CREATE TABLES:\n",
                "> \n",
                "> You may only create a table once.  You may comment out your creation query once you run it."
            ],
            "metadata": {
                "azdata_cell_guid": "3cd07164-2b30-427a-9b61-2889c08cdf24"
            },
            "attachments": {}
        },
        {
            "cell_type": "code",
            "source": [
                "-- Create the book table here.  Update the name of the database and schema.\n",
                "\n",
                "CREATE TABLE [JunkDB_stl_May2023].[gomathy].book (\n",
                "    book_id INT IDENTITY(1,1) PRIMARY KEY, \n",
                "    author_id INT,\n",
                "    title VARCHAR(255),\n",
                "    isbn INT,\n",
                "    available BIT,\n",
                "    genre_id INT\n",
                ");\n",
                ""
            ],
            "metadata": {
                "azdata_cell_guid": "754ed0e1-18d8-4a12-ac6c-c19d7f671a0d",
                "tags": [],
                "language": "sql"
            },
            "outputs": [
                {
                    "output_type": "display_data",
                    "data": {
                        "text/html": "Commands completed successfully."
                    },
                    "metadata": {}
                },
                {
                    "output_type": "display_data",
                    "data": {
                        "text/html": "Total execution time: 00:00:00.043"
                    },
                    "metadata": {}
                }
            ],
            "execution_count": 9
        },
        {
            "cell_type": "markdown",
            "source": [
                "### Populate the **book** table.\n",
                "\n",
                "For the starter data, use the [book\\_data.ipynb notebook](https://github.com/speudusa/SQL-Part-5-Studio/tree/master/Starter%20Code).\n",
                "\n",
                "> You may copy/paste the commands into the next code block.  You will need to update each INSERT statement to contain the names of your database and schema."
            ],
            "metadata": {
                "azdata_cell_guid": "8a158f8e-a006-4b9c-a5b0-8dca2c8ed558"
            },
            "attachments": {}
        },
        {
            "cell_type": "code",
            "source": [
                "-- Paste the book data values in this code box.  Be sure to update database and schema names.\n",
                "INSERT INTO [JunkDB_stl_May2023].[gomathy].book(author_id, title, isbn, available, genre_id)\n",
                "VALUES (2, 'A Midsummers Night Dream', 978149413, 1, 23)\n",
                "\n",
                "INSERT INTO [JunkDB_stl_May2023].[gomathy].book(author_id, title, isbn, available, genre_id)\n",
                "VALUES (2, 'Romeo and Juliet', 988535196, 1, 3);\n",
                "\n",
                "INSERT INTO [JunkDB_stl_May2023].[gomathy].book(author_id, title, isbn, available, genre_id)\n",
                "VALUES (1, 'The Golden Compass', 451664226, 1, 1);\n",
                "\n",
                "INSERT INTO [JunkDB_stl_May2023].[gomathy].book(author_id, title, isbn, available, genre_id)\n",
                "VALUES (1, 'The Subtle Knife', 160419390, 1, 1);\n",
                "\n",
                "INSERT INTO [JunkDB_stl_May2023].[gomathy].book(author_id, title, isbn, available, genre_id)\n",
                "VALUES (1, 'The Amber Spyglass', 94387895, 1, 1);\n",
                "\n",
                "INSERT INTO [JunkDB_stl_May2023].[gomathy].book(author_id, title, isbn, available, genre_id)\n",
                "VALUES (3, 'The Alchemist', 464069772, 1, 2);\n",
                "\n",
                "INSERT INTO [JunkDB_stl_May2023].[gomathy].book(author_id, title, isbn, available, genre_id)\n",
                "VALUES (4, 'And Then There Were None', 335973357, 1, 6);\n",
                "\n",
                "INSERT INTO [JunkDB_stl_May2023].[gomathy].book(author_id, title, isbn, available, genre_id)\n",
                "VALUES (5, 'The Joy Luck Club', 990050329, 1, 10);\n",
                "\n",
                "INSERT INTO [JunkDB_stl_May2023].[gomathy].book(author_id, title, isbn, available, genre_id)\n",
                "VALUES (5, 'The Moon Lady', 91720786, 1, 24);\n",
                "\n",
                "INSERT INTO [JunkDB_stl_May2023].[gomathy].book(author_id, title, isbn, available, genre_id)\n",
                "VALUES (6, 'Sense and Sensibility', 156879860, 1, 2);\n",
                "\n",
                "INSERT INTO [JunkDB_stl_May2023].[gomathy].book(author_id, title, isbn, available, genre_id)\n",
                "VALUES (6, 'Northanger Abbey', 951273178, 1, 3);\n",
                "\n",
                "INSERT INTO [JunkDB_stl_May2023].[gomathy].book(author_id, title, isbn, available, genre_id)\n",
                "VALUES (6, 'Pride and Prejudice', 415886839, 1, 3);\n",
                "\n",
                "INSERT INTO [JunkDB_stl_May2023].[gomathy].book(author_id, title, isbn, available, genre_id)\n",
                "VALUES (6, 'Mansfield Park', 188534067, 1, 3);\n",
                "\n",
                "INSERT INTO [JunkDB_stl_May2023].[gomathy].book(author_id, title, isbn, available, genre_id)\n",
                "VALUES (6, 'Emma', 994896202, 1, 3);\n",
                "\n",
                "INSERT INTO [JunkDB_stl_May2023].[gomathy].book(author_id, title, isbn, available, genre_id)\n",
                "VALUES (6, 'Persuasion', 28150097, 1, 3);\n",
                "\n",
                "INSERT INTO [JunkDB_stl_May2023].[gomathy].book(author_id, title, isbn, available, genre_id)\n",
                "VALUES (6, 'Lady Susan', 230962926, 1, 3);\n",
                "\n",
                "INSERT INTO [JunkDB_stl_May2023].[gomathy].book(author_id, title, isbn, available, genre_id)\n",
                "VALUES (7, 'Wuthering Heights', 280569946, 1, 3);\n",
                "\n",
                "INSERT INTO [JunkDB_stl_May2023].[gomathy].book(author_id, title, isbn, available, genre_id)\n",
                "VALUES (8, 'The Handmaids Tale', 639239663, 1, 5);\n",
                "\n",
                "INSERT INTO [JunkDB_stl_May2023].[gomathy].book(author_id, title, isbn, available, genre_id)\n",
                "VALUES (8, 'The Testaments', 826875490, 1, 5);\n",
                "\n",
                "INSERT INTO [JunkDB_stl_May2023].[gomathy].book(author_id, title, isbn, available, genre_id)\n",
                "VALUES (9, 'The Parable of the Sower', 283359358, 1, 5);\n",
                "\n",
                "INSERT INTO [JunkDB_stl_May2023].[gomathy].book(author_id, title, isbn, available, genre_id)\n",
                "VALUES (10, 'Little Women', 495409887, 1, 23);\n",
                "\n",
                "INSERT INTO [JunkDB_stl_May2023].[gomathy].book(author_id, title, isbn, available, genre_id)\n",
                "VALUES (11, 'Still Life', 455128657, 1, 6);\n",
                "\n",
                "INSERT INTO [JunkDB_stl_May2023].[gomathy].book(author_id, title, isbn, available, genre_id)\n",
                "VALUES (11, 'A Fatal Grace', 832517012, 1, 6);\n",
                "\n",
                "INSERT INTO [JunkDB_stl_May2023].[gomathy].book(author_id, title, isbn, available, genre_id)\n",
                "VALUES (11, 'The Cruelest Month', 419285319, 1, 6);\n",
                "\n",
                "INSERT INTO [JunkDB_stl_May2023].[gomathy].book(author_id, title, isbn, available, genre_id)\n",
                "VALUES (11, 'The Murder Stone', 656621400, 1, 6);\n",
                "\n",
                "INSERT INTO [JunkDB_stl_May2023].[gomathy].book(author_id, title, isbn, available, genre_id)\n",
                "VALUES (11, 'The Brutal Telling', 144255852, 1, 6);\n",
                "\n",
                "INSERT INTO [JunkDB_stl_May2023].[gomathy].book(author_id, title, isbn, available, genre_id)\n",
                "VALUES (11, 'Bury Your Dead', 208180961, 1, 6);\n",
                "\n",
                "INSERT INTO [JunkDB_stl_May2023].[gomathy].book(author_id, title, isbn, available, genre_id)\n",
                "VALUES (11, 'A Trick of the Light', 93451531, 1, 6);\n",
                "\n",
                "INSERT INTO [JunkDB_stl_May2023].[gomathy].book(author_id, title, isbn, available, genre_id)\n",
                "VALUES (12, 'Midnights Children', 881082293, 1, 10);\n",
                "\n",
                "INSERT INTO [JunkDB_stl_May2023].[gomathy].book(author_id, title, isbn, available, genre_id)\n",
                "VALUES (13, 'Dont Let the Pigeon Drive the Bus!', 18409532, 1, 24);\n",
                "\n",
                "INSERT INTO [JunkDB_stl_May2023].[gomathy].book(author_id, title, isbn, available, genre_id)\n",
                "VALUES (14, 'Beezus and Ramona', 744412630, 1, 24);\n",
                "\n",
                "INSERT INTO [JunkDB_stl_May2023].[gomathy].book(author_id, title, isbn, available, genre_id)\n",
                "VALUES (15, 'Organic Chemistry', 604328803, 1, 25);\n",
                "\n",
                "INSERT INTO [JunkDB_stl_May2023].[gomathy].book(author_id, title, isbn, available, genre_id)\n",
                "VALUES (16, 'I Know Why the Caged Bird Sings', 909947112, 1, 12);\n",
                "\n",
                "INSERT INTO [JunkDB_stl_May2023].[gomathy].book(author_id, title, isbn, available, genre_id)\n",
                "VALUES (17, 'Beloved', 46736233, 1, 10);\n",
                "\n",
                "INSERT INTO [JunkDB_stl_May2023].[gomathy].book(author_id, title, isbn, available, genre_id)\n",
                "VALUES (18, 'Brassbones and Rainbows', 330608463, 1, 26);"
            ],
            "metadata": {
                "azdata_cell_guid": "1abb744a-1418-4a8a-83c6-837676f6f47b",
                "tags": [],
                "language": "sql"
            },
            "outputs": [
                {
                    "output_type": "display_data",
                    "data": {
                        "text/html": "(1 row affected)"
                    },
                    "metadata": {}
                },
                {
                    "output_type": "display_data",
                    "data": {
                        "text/html": "(1 row affected)"
                    },
                    "metadata": {}
                },
                {
                    "output_type": "display_data",
                    "data": {
                        "text/html": "(1 row affected)"
                    },
                    "metadata": {}
                },
                {
                    "output_type": "display_data",
                    "data": {
                        "text/html": "(1 row affected)"
                    },
                    "metadata": {}
                },
                {
                    "output_type": "display_data",
                    "data": {
                        "text/html": "(1 row affected)"
                    },
                    "metadata": {}
                },
                {
                    "output_type": "display_data",
                    "data": {
                        "text/html": "(1 row affected)"
                    },
                    "metadata": {}
                },
                {
                    "output_type": "display_data",
                    "data": {
                        "text/html": "(1 row affected)"
                    },
                    "metadata": {}
                },
                {
                    "output_type": "display_data",
                    "data": {
                        "text/html": "(1 row affected)"
                    },
                    "metadata": {}
                },
                {
                    "output_type": "display_data",
                    "data": {
                        "text/html": "(1 row affected)"
                    },
                    "metadata": {}
                },
                {
                    "output_type": "display_data",
                    "data": {
                        "text/html": "(1 row affected)"
                    },
                    "metadata": {}
                },
                {
                    "output_type": "display_data",
                    "data": {
                        "text/html": "(1 row affected)"
                    },
                    "metadata": {}
                },
                {
                    "output_type": "display_data",
                    "data": {
                        "text/html": "(1 row affected)"
                    },
                    "metadata": {}
                },
                {
                    "output_type": "display_data",
                    "data": {
                        "text/html": "(1 row affected)"
                    },
                    "metadata": {}
                },
                {
                    "output_type": "display_data",
                    "data": {
                        "text/html": "(1 row affected)"
                    },
                    "metadata": {}
                },
                {
                    "output_type": "display_data",
                    "data": {
                        "text/html": "(1 row affected)"
                    },
                    "metadata": {}
                },
                {
                    "output_type": "display_data",
                    "data": {
                        "text/html": "(1 row affected)"
                    },
                    "metadata": {}
                },
                {
                    "output_type": "display_data",
                    "data": {
                        "text/html": "(1 row affected)"
                    },
                    "metadata": {}
                },
                {
                    "output_type": "display_data",
                    "data": {
                        "text/html": "(1 row affected)"
                    },
                    "metadata": {}
                },
                {
                    "output_type": "display_data",
                    "data": {
                        "text/html": "(1 row affected)"
                    },
                    "metadata": {}
                },
                {
                    "output_type": "display_data",
                    "data": {
                        "text/html": "(1 row affected)"
                    },
                    "metadata": {}
                },
                {
                    "output_type": "display_data",
                    "data": {
                        "text/html": "(1 row affected)"
                    },
                    "metadata": {}
                },
                {
                    "output_type": "display_data",
                    "data": {
                        "text/html": "(1 row affected)"
                    },
                    "metadata": {}
                },
                {
                    "output_type": "display_data",
                    "data": {
                        "text/html": "(1 row affected)"
                    },
                    "metadata": {}
                },
                {
                    "output_type": "display_data",
                    "data": {
                        "text/html": "(1 row affected)"
                    },
                    "metadata": {}
                },
                {
                    "output_type": "display_data",
                    "data": {
                        "text/html": "(1 row affected)"
                    },
                    "metadata": {}
                },
                {
                    "output_type": "display_data",
                    "data": {
                        "text/html": "(1 row affected)"
                    },
                    "metadata": {}
                },
                {
                    "output_type": "display_data",
                    "data": {
                        "text/html": "(1 row affected)"
                    },
                    "metadata": {}
                },
                {
                    "output_type": "display_data",
                    "data": {
                        "text/html": "(1 row affected)"
                    },
                    "metadata": {}
                },
                {
                    "output_type": "display_data",
                    "data": {
                        "text/html": "(1 row affected)"
                    },
                    "metadata": {}
                },
                {
                    "output_type": "display_data",
                    "data": {
                        "text/html": "(1 row affected)"
                    },
                    "metadata": {}
                },
                {
                    "output_type": "display_data",
                    "data": {
                        "text/html": "(1 row affected)"
                    },
                    "metadata": {}
                },
                {
                    "output_type": "display_data",
                    "data": {
                        "text/html": "(1 row affected)"
                    },
                    "metadata": {}
                },
                {
                    "output_type": "display_data",
                    "data": {
                        "text/html": "(1 row affected)"
                    },
                    "metadata": {}
                },
                {
                    "output_type": "display_data",
                    "data": {
                        "text/html": "(1 row affected)"
                    },
                    "metadata": {}
                },
                {
                    "output_type": "display_data",
                    "data": {
                        "text/html": "(1 row affected)"
                    },
                    "metadata": {}
                },
                {
                    "output_type": "display_data",
                    "data": {
                        "text/html": "Total execution time: 00:00:00.083"
                    },
                    "metadata": {}
                }
            ],
            "execution_count": 30
        },
        {
            "cell_type": "markdown",
            "source": [
                "### Test your data.  \n",
                "\n",
                "Run a quick query of your choice to see if the book table was properly created."
            ],
            "metadata": {
                "azdata_cell_guid": "1fe68960-aaec-456d-bbd9-4e00d73f542d"
            },
            "attachments": {}
        },
        {
            "cell_type": "code",
            "source": [
                "-- test your book table here.\r\n",
                "select * from [JunkDB_stl_May2023].[gomathy].book"
            ],
            "metadata": {
                "azdata_cell_guid": "b0d6fa80-cde5-46d3-a2c2-d93dbfb1805f",
                "language": "sql"
            },
            "outputs": [
                {
                    "output_type": "display_data",
                    "data": {
                        "text/html": "(35 rows affected)"
                    },
                    "metadata": {}
                },
                {
                    "output_type": "display_data",
                    "data": {
                        "text/html": "Total execution time: 00:00:00.046"
                    },
                    "metadata": {}
                },
                {
                    "output_type": "execute_result",
                    "metadata": {},
                    "execution_count": 31,
                    "data": {
                        "application/vnd.dataresource+json": {
                            "schema": {
                                "fields": [
                                    {
                                        "name": "book_id"
                                    },
                                    {
                                        "name": "author_id"
                                    },
                                    {
                                        "name": "title"
                                    },
                                    {
                                        "name": "isbn"
                                    },
                                    {
                                        "name": "available"
                                    },
                                    {
                                        "name": "genre_id"
                                    }
                                ]
                            },
                            "data": [
                                {
                                    "book_id": "106",
                                    "author_id": "2",
                                    "title": "A Midsummers Night Dream",
                                    "isbn": "978149413",
                                    "available": "1",
                                    "genre_id": "23"
                                },
                                {
                                    "book_id": "107",
                                    "author_id": "2",
                                    "title": "Romeo and Juliet",
                                    "isbn": "988535196",
                                    "available": "1",
                                    "genre_id": "3"
                                },
                                {
                                    "book_id": "108",
                                    "author_id": "1",
                                    "title": "The Golden Compass",
                                    "isbn": "451664226",
                                    "available": "1",
                                    "genre_id": "1"
                                },
                                {
                                    "book_id": "109",
                                    "author_id": "1",
                                    "title": "The Subtle Knife",
                                    "isbn": "160419390",
                                    "available": "1",
                                    "genre_id": "1"
                                },
                                {
                                    "book_id": "110",
                                    "author_id": "1",
                                    "title": "The Amber Spyglass",
                                    "isbn": "94387895",
                                    "available": "1",
                                    "genre_id": "1"
                                },
                                {
                                    "book_id": "111",
                                    "author_id": "3",
                                    "title": "The Alchemist",
                                    "isbn": "464069772",
                                    "available": "1",
                                    "genre_id": "2"
                                },
                                {
                                    "book_id": "112",
                                    "author_id": "4",
                                    "title": "And Then There Were None",
                                    "isbn": "335973357",
                                    "available": "1",
                                    "genre_id": "6"
                                },
                                {
                                    "book_id": "113",
                                    "author_id": "5",
                                    "title": "The Joy Luck Club",
                                    "isbn": "990050329",
                                    "available": "1",
                                    "genre_id": "10"
                                },
                                {
                                    "book_id": "114",
                                    "author_id": "5",
                                    "title": "The Moon Lady",
                                    "isbn": "91720786",
                                    "available": "1",
                                    "genre_id": "24"
                                },
                                {
                                    "book_id": "115",
                                    "author_id": "6",
                                    "title": "Sense and Sensibility",
                                    "isbn": "156879860",
                                    "available": "1",
                                    "genre_id": "2"
                                },
                                {
                                    "book_id": "116",
                                    "author_id": "6",
                                    "title": "Northanger Abbey",
                                    "isbn": "951273178",
                                    "available": "1",
                                    "genre_id": "3"
                                },
                                {
                                    "book_id": "117",
                                    "author_id": "6",
                                    "title": "Pride and Prejudice",
                                    "isbn": "415886839",
                                    "available": "1",
                                    "genre_id": "3"
                                },
                                {
                                    "book_id": "118",
                                    "author_id": "6",
                                    "title": "Mansfield Park",
                                    "isbn": "188534067",
                                    "available": "1",
                                    "genre_id": "3"
                                },
                                {
                                    "book_id": "119",
                                    "author_id": "6",
                                    "title": "Emma",
                                    "isbn": "994896202",
                                    "available": "1",
                                    "genre_id": "3"
                                },
                                {
                                    "book_id": "120",
                                    "author_id": "6",
                                    "title": "Persuasion",
                                    "isbn": "28150097",
                                    "available": "1",
                                    "genre_id": "3"
                                },
                                {
                                    "book_id": "121",
                                    "author_id": "6",
                                    "title": "Lady Susan",
                                    "isbn": "230962926",
                                    "available": "1",
                                    "genre_id": "3"
                                },
                                {
                                    "book_id": "122",
                                    "author_id": "7",
                                    "title": "Wuthering Heights",
                                    "isbn": "280569946",
                                    "available": "1",
                                    "genre_id": "3"
                                },
                                {
                                    "book_id": "123",
                                    "author_id": "8",
                                    "title": "The Handmaids Tale",
                                    "isbn": "639239663",
                                    "available": "1",
                                    "genre_id": "5"
                                },
                                {
                                    "book_id": "124",
                                    "author_id": "8",
                                    "title": "The Testaments",
                                    "isbn": "826875490",
                                    "available": "1",
                                    "genre_id": "5"
                                },
                                {
                                    "book_id": "125",
                                    "author_id": "9",
                                    "title": "The Parable of the Sower",
                                    "isbn": "283359358",
                                    "available": "1",
                                    "genre_id": "5"
                                },
                                {
                                    "book_id": "126",
                                    "author_id": "10",
                                    "title": "Little Women",
                                    "isbn": "495409887",
                                    "available": "1",
                                    "genre_id": "23"
                                },
                                {
                                    "book_id": "127",
                                    "author_id": "11",
                                    "title": "Still Life",
                                    "isbn": "455128657",
                                    "available": "1",
                                    "genre_id": "6"
                                },
                                {
                                    "book_id": "128",
                                    "author_id": "11",
                                    "title": "A Fatal Grace",
                                    "isbn": "832517012",
                                    "available": "1",
                                    "genre_id": "6"
                                },
                                {
                                    "book_id": "129",
                                    "author_id": "11",
                                    "title": "The Cruelest Month",
                                    "isbn": "419285319",
                                    "available": "1",
                                    "genre_id": "6"
                                },
                                {
                                    "book_id": "130",
                                    "author_id": "11",
                                    "title": "The Murder Stone",
                                    "isbn": "656621400",
                                    "available": "1",
                                    "genre_id": "6"
                                },
                                {
                                    "book_id": "131",
                                    "author_id": "11",
                                    "title": "The Brutal Telling",
                                    "isbn": "144255852",
                                    "available": "1",
                                    "genre_id": "6"
                                },
                                {
                                    "book_id": "132",
                                    "author_id": "11",
                                    "title": "Bury Your Dead",
                                    "isbn": "208180961",
                                    "available": "1",
                                    "genre_id": "6"
                                },
                                {
                                    "book_id": "133",
                                    "author_id": "11",
                                    "title": "A Trick of the Light",
                                    "isbn": "93451531",
                                    "available": "1",
                                    "genre_id": "6"
                                },
                                {
                                    "book_id": "134",
                                    "author_id": "12",
                                    "title": "Midnights Children",
                                    "isbn": "881082293",
                                    "available": "1",
                                    "genre_id": "10"
                                },
                                {
                                    "book_id": "135",
                                    "author_id": "13",
                                    "title": "Dont Let the Pigeon Drive the Bus!",
                                    "isbn": "18409532",
                                    "available": "1",
                                    "genre_id": "24"
                                },
                                {
                                    "book_id": "136",
                                    "author_id": "14",
                                    "title": "Beezus and Ramona",
                                    "isbn": "744412630",
                                    "available": "1",
                                    "genre_id": "24"
                                },
                                {
                                    "book_id": "137",
                                    "author_id": "15",
                                    "title": "Organic Chemistry",
                                    "isbn": "604328803",
                                    "available": "1",
                                    "genre_id": "25"
                                },
                                {
                                    "book_id": "138",
                                    "author_id": "16",
                                    "title": "I Know Why the Caged Bird Sings",
                                    "isbn": "909947112",
                                    "available": "1",
                                    "genre_id": "12"
                                },
                                {
                                    "book_id": "139",
                                    "author_id": "17",
                                    "title": "Beloved",
                                    "isbn": "46736233",
                                    "available": "1",
                                    "genre_id": "10"
                                },
                                {
                                    "book_id": "140",
                                    "author_id": "18",
                                    "title": "Brassbones and Rainbows",
                                    "isbn": "330608463",
                                    "available": "1",
                                    "genre_id": "26"
                                }
                            ]
                        },
                        "text/html": [
                            "<table>",
                            "<tr><th>book_id</th><th>author_id</th><th>title</th><th>isbn</th><th>available</th><th>genre_id</th></tr>",
                            "<tr><td>106</td><td>2</td><td>A Midsummers Night Dream</td><td>978149413</td><td>1</td><td>23</td></tr>",
                            "<tr><td>107</td><td>2</td><td>Romeo and Juliet</td><td>988535196</td><td>1</td><td>3</td></tr>",
                            "<tr><td>108</td><td>1</td><td>The Golden Compass</td><td>451664226</td><td>1</td><td>1</td></tr>",
                            "<tr><td>109</td><td>1</td><td>The Subtle Knife</td><td>160419390</td><td>1</td><td>1</td></tr>",
                            "<tr><td>110</td><td>1</td><td>The Amber Spyglass</td><td>94387895</td><td>1</td><td>1</td></tr>",
                            "<tr><td>111</td><td>3</td><td>The Alchemist</td><td>464069772</td><td>1</td><td>2</td></tr>",
                            "<tr><td>112</td><td>4</td><td>And Then There Were None</td><td>335973357</td><td>1</td><td>6</td></tr>",
                            "<tr><td>113</td><td>5</td><td>The Joy Luck Club</td><td>990050329</td><td>1</td><td>10</td></tr>",
                            "<tr><td>114</td><td>5</td><td>The Moon Lady</td><td>91720786</td><td>1</td><td>24</td></tr>",
                            "<tr><td>115</td><td>6</td><td>Sense and Sensibility</td><td>156879860</td><td>1</td><td>2</td></tr>",
                            "<tr><td>116</td><td>6</td><td>Northanger Abbey</td><td>951273178</td><td>1</td><td>3</td></tr>",
                            "<tr><td>117</td><td>6</td><td>Pride and Prejudice</td><td>415886839</td><td>1</td><td>3</td></tr>",
                            "<tr><td>118</td><td>6</td><td>Mansfield Park</td><td>188534067</td><td>1</td><td>3</td></tr>",
                            "<tr><td>119</td><td>6</td><td>Emma</td><td>994896202</td><td>1</td><td>3</td></tr>",
                            "<tr><td>120</td><td>6</td><td>Persuasion</td><td>28150097</td><td>1</td><td>3</td></tr>",
                            "<tr><td>121</td><td>6</td><td>Lady Susan</td><td>230962926</td><td>1</td><td>3</td></tr>",
                            "<tr><td>122</td><td>7</td><td>Wuthering Heights</td><td>280569946</td><td>1</td><td>3</td></tr>",
                            "<tr><td>123</td><td>8</td><td>The Handmaids Tale</td><td>639239663</td><td>1</td><td>5</td></tr>",
                            "<tr><td>124</td><td>8</td><td>The Testaments</td><td>826875490</td><td>1</td><td>5</td></tr>",
                            "<tr><td>125</td><td>9</td><td>The Parable of the Sower</td><td>283359358</td><td>1</td><td>5</td></tr>",
                            "<tr><td>126</td><td>10</td><td>Little Women</td><td>495409887</td><td>1</td><td>23</td></tr>",
                            "<tr><td>127</td><td>11</td><td>Still Life</td><td>455128657</td><td>1</td><td>6</td></tr>",
                            "<tr><td>128</td><td>11</td><td>A Fatal Grace</td><td>832517012</td><td>1</td><td>6</td></tr>",
                            "<tr><td>129</td><td>11</td><td>The Cruelest Month</td><td>419285319</td><td>1</td><td>6</td></tr>",
                            "<tr><td>130</td><td>11</td><td>The Murder Stone</td><td>656621400</td><td>1</td><td>6</td></tr>",
                            "<tr><td>131</td><td>11</td><td>The Brutal Telling</td><td>144255852</td><td>1</td><td>6</td></tr>",
                            "<tr><td>132</td><td>11</td><td>Bury Your Dead</td><td>208180961</td><td>1</td><td>6</td></tr>",
                            "<tr><td>133</td><td>11</td><td>A Trick of the Light</td><td>93451531</td><td>1</td><td>6</td></tr>",
                            "<tr><td>134</td><td>12</td><td>Midnights Children</td><td>881082293</td><td>1</td><td>10</td></tr>",
                            "<tr><td>135</td><td>13</td><td>Dont Let the Pigeon Drive the Bus!</td><td>18409532</td><td>1</td><td>24</td></tr>",
                            "<tr><td>136</td><td>14</td><td>Beezus and Ramona</td><td>744412630</td><td>1</td><td>24</td></tr>",
                            "<tr><td>137</td><td>15</td><td>Organic Chemistry</td><td>604328803</td><td>1</td><td>25</td></tr>",
                            "<tr><td>138</td><td>16</td><td>I Know Why the Caged Bird Sings</td><td>909947112</td><td>1</td><td>12</td></tr>",
                            "<tr><td>139</td><td>17</td><td>Beloved</td><td>46736233</td><td>1</td><td>10</td></tr>",
                            "<tr><td>140</td><td>18</td><td>Brassbones and Rainbows</td><td>330608463</td><td>1</td><td>26</td></tr>",
                            "</table>"
                        ]
                    }
                }
            ],
            "execution_count": 31
        },
        {
            "cell_type": "markdown",
            "source": [
                "We will repeat a similar process for the **author, patron,** and **genre** tables. \n",
                "\n",
                "### **Author Table**\n",
                "\n",
                "To create the **author** table, you will use the following code:\n",
                "\n",
                "```\n",
                "CREATE TABLE [DB].[schema].author (\n",
                "    author_id INT IDENTITY(1,1), PRIMARY KEY\n",
                "    first_name VARCHAR(255),\n",
                "    last_name VARCHAR(255),\n",
                "    birth_year INT,\n",
                "    death_year INT\n",
                ");\n",
                "```"
            ],
            "metadata": {
                "azdata_cell_guid": "b63ee318-4506-48f1-adb1-267925282624"
            },
            "attachments": {}
        },
        {
            "cell_type": "code",
            "source": [
                "-- create the author table here:\n",
                "CREATE TABLE JunkDB_stl_May2023.gomathy.author (\n",
                "    author_id INT IDENTITY(1,1) PRIMARY KEY,\n",
                "    first_name VARCHAR(255),\n",
                "    last_name VARCHAR(255),\n",
                "    birth_year INT,\n",
                "    death_year INT\n",
                ");\n",
                "\n",
                ""
            ],
            "metadata": {
                "azdata_cell_guid": "c3903edb-35bf-4806-b554-ecbf3736b7bf",
                "language": "sql"
            },
            "outputs": [
                {
                    "output_type": "display_data",
                    "data": {
                        "text/html": "Commands completed successfully."
                    },
                    "metadata": {}
                },
                {
                    "output_type": "display_data",
                    "data": {
                        "text/html": "Total execution time: 00:00:00.042"
                    },
                    "metadata": {}
                }
            ],
            "execution_count": 19
        },
        {
            "cell_type": "markdown",
            "source": [
                "Populate the **author** table with the [author\\_data.ipynb](https://github.com/speudusa/SQL-Part-5-Studio/tree/master/Starter%20Code)."
            ],
            "metadata": {
                "azdata_cell_guid": "80c74052-6126-4ebd-90fb-4fd6720c79ac"
            },
            "attachments": {}
        },
        {
            "cell_type": "code",
            "source": [
                "-- paste the author data values in this code.\r\n",
                "-- INSERT INTO JunkDB_stl_May2023.gomathy.author(first_name, last_name, birth_year, death_year)\r\n",
                "-- VALUES ('Phillip', 'Pullman', 1946, null),\r\n",
                "--     ('William', 'Shakespeare', 1564, 1616),\r\n",
                "--     ('Paulo', 'Coelho', 1947, null),\r\n",
                "--     ('Agatha', 'Christie', 1890-09-15, 1976-01-12),\r\n",
                "--     ('Amy', 'Tan', 1952-02-19, null),\r\n",
                "--     ('Jane', 'Austin', 1775-12-16, 1817-07-18),\r\n",
                "--     ('Emily', 'Bronte', 1818-07-30, 1848-12-19),\r\n",
                "--     ('Margaret', 'Atwood', 1939-11-18, null),\r\n",
                "--     ('Octavia', 'Butler', 1947-06-22, 2006-02-24),\r\n",
                "--     ('Louisa May', 'Alcott', 1832-11-29, 1888-03-06),\r\n",
                "--     ('Louise', 'Penny', 1958-07-01, null),\r\n",
                "--     ('Salman', 'Rushdie', 1947-08-19, null),\r\n",
                "--     ('Mo', 'Willems', 1968-02-11, null),\r\n",
                "--     ('Beverly', 'Cleary', 1916-04-12, null),\r\n",
                "--     ('Peter', 'Vollhardt', 1946-03-07, null),\r\n",
                "--     ('Maya', 'Angelou', 1928-04-04, 2014-05-28),\r\n",
                "--     ('Toni', 'Morrison', 1931-02-18, 2019-08-05),\r\n",
                "--     ('Shirley', 'LeFlore', 1940-03-06, 2019-05-12)\r\n",
                "\r\n",
                "\r\n",
                "    select * from JunkDB_stl_May2023.gomathy.author\r\n",
                "      --  delete  from JunkDB_stl_May2023.gomathy.author"
            ],
            "metadata": {
                "azdata_cell_guid": "2f7ea794-a4a0-4b28-ba15-20e07065dc84",
                "language": "sql",
                "tags": []
            },
            "outputs": [
                {
                    "output_type": "display_data",
                    "data": {
                        "text/html": "(18 rows affected)"
                    },
                    "metadata": {}
                },
                {
                    "output_type": "display_data",
                    "data": {
                        "text/html": "Total execution time: 00:00:00.051"
                    },
                    "metadata": {}
                },
                {
                    "output_type": "execute_result",
                    "metadata": {},
                    "execution_count": 28,
                    "data": {
                        "application/vnd.dataresource+json": {
                            "schema": {
                                "fields": [
                                    {
                                        "name": "author_id"
                                    },
                                    {
                                        "name": "first_name"
                                    },
                                    {
                                        "name": "last_name"
                                    },
                                    {
                                        "name": "birth_year"
                                    },
                                    {
                                        "name": "death_year"
                                    }
                                ]
                            },
                            "data": [
                                {
                                    "author_id": "37",
                                    "first_name": "Phillip",
                                    "last_name": "Pullman",
                                    "birth_year": "1946",
                                    "death_year": "NULL"
                                },
                                {
                                    "author_id": "38",
                                    "first_name": "William",
                                    "last_name": "Shakespeare",
                                    "birth_year": "1564",
                                    "death_year": "1616"
                                },
                                {
                                    "author_id": "39",
                                    "first_name": "Paulo",
                                    "last_name": "Coelho",
                                    "birth_year": "1947",
                                    "death_year": "NULL"
                                },
                                {
                                    "author_id": "40",
                                    "first_name": "Agatha",
                                    "last_name": "Christie",
                                    "birth_year": "1866",
                                    "death_year": "1963"
                                },
                                {
                                    "author_id": "41",
                                    "first_name": "Amy",
                                    "last_name": "Tan",
                                    "birth_year": "1931",
                                    "death_year": "NULL"
                                },
                                {
                                    "author_id": "42",
                                    "first_name": "Jane",
                                    "last_name": "Austin",
                                    "birth_year": "1747",
                                    "death_year": "1792"
                                },
                                {
                                    "author_id": "43",
                                    "first_name": "Emily",
                                    "last_name": "Bronte",
                                    "birth_year": "1781",
                                    "death_year": "1817"
                                },
                                {
                                    "author_id": "44",
                                    "first_name": "Margaret",
                                    "last_name": "Atwood",
                                    "birth_year": "1910",
                                    "death_year": "NULL"
                                },
                                {
                                    "author_id": "45",
                                    "first_name": "Octavia",
                                    "last_name": "Butler",
                                    "birth_year": "1919",
                                    "death_year": "1980"
                                },
                                {
                                    "author_id": "46",
                                    "first_name": "Louisa May",
                                    "last_name": "Alcott",
                                    "birth_year": "1792",
                                    "death_year": "1879"
                                },
                                {
                                    "author_id": "47",
                                    "first_name": "Louise",
                                    "last_name": "Penny",
                                    "birth_year": "1950",
                                    "death_year": "NULL"
                                },
                                {
                                    "author_id": "48",
                                    "first_name": "Salman",
                                    "last_name": "Rushdie",
                                    "birth_year": "1920",
                                    "death_year": "NULL"
                                },
                                {
                                    "author_id": "49",
                                    "first_name": "Mo",
                                    "last_name": "Willems",
                                    "birth_year": "1955",
                                    "death_year": "NULL"
                                },
                                {
                                    "author_id": "50",
                                    "first_name": "Beverly",
                                    "last_name": "Cleary",
                                    "birth_year": "1900",
                                    "death_year": "NULL"
                                },
                                {
                                    "author_id": "51",
                                    "first_name": "Peter",
                                    "last_name": "Vollhardt",
                                    "birth_year": "1936",
                                    "death_year": "NULL"
                                },
                                {
                                    "author_id": "52",
                                    "first_name": "Maya",
                                    "last_name": "Angelou",
                                    "birth_year": "1920",
                                    "death_year": "1981"
                                },
                                {
                                    "author_id": "53",
                                    "first_name": "Toni",
                                    "last_name": "Morrison",
                                    "birth_year": "1911",
                                    "death_year": "2006"
                                },
                                {
                                    "author_id": "54",
                                    "first_name": "Shirley",
                                    "last_name": "LeFlore",
                                    "birth_year": "1931",
                                    "death_year": "2002"
                                }
                            ]
                        },
                        "text/html": [
                            "<table>",
                            "<tr><th>author_id</th><th>first_name</th><th>last_name</th><th>birth_year</th><th>death_year</th></tr>",
                            "<tr><td>37</td><td>Phillip</td><td>Pullman</td><td>1946</td><td>NULL</td></tr>",
                            "<tr><td>38</td><td>William</td><td>Shakespeare</td><td>1564</td><td>1616</td></tr>",
                            "<tr><td>39</td><td>Paulo</td><td>Coelho</td><td>1947</td><td>NULL</td></tr>",
                            "<tr><td>40</td><td>Agatha</td><td>Christie</td><td>1866</td><td>1963</td></tr>",
                            "<tr><td>41</td><td>Amy</td><td>Tan</td><td>1931</td><td>NULL</td></tr>",
                            "<tr><td>42</td><td>Jane</td><td>Austin</td><td>1747</td><td>1792</td></tr>",
                            "<tr><td>43</td><td>Emily</td><td>Bronte</td><td>1781</td><td>1817</td></tr>",
                            "<tr><td>44</td><td>Margaret</td><td>Atwood</td><td>1910</td><td>NULL</td></tr>",
                            "<tr><td>45</td><td>Octavia</td><td>Butler</td><td>1919</td><td>1980</td></tr>",
                            "<tr><td>46</td><td>Louisa May</td><td>Alcott</td><td>1792</td><td>1879</td></tr>",
                            "<tr><td>47</td><td>Louise</td><td>Penny</td><td>1950</td><td>NULL</td></tr>",
                            "<tr><td>48</td><td>Salman</td><td>Rushdie</td><td>1920</td><td>NULL</td></tr>",
                            "<tr><td>49</td><td>Mo</td><td>Willems</td><td>1955</td><td>NULL</td></tr>",
                            "<tr><td>50</td><td>Beverly</td><td>Cleary</td><td>1900</td><td>NULL</td></tr>",
                            "<tr><td>51</td><td>Peter</td><td>Vollhardt</td><td>1936</td><td>NULL</td></tr>",
                            "<tr><td>52</td><td>Maya</td><td>Angelou</td><td>1920</td><td>1981</td></tr>",
                            "<tr><td>53</td><td>Toni</td><td>Morrison</td><td>1911</td><td>2006</td></tr>",
                            "<tr><td>54</td><td>Shirley</td><td>LeFlore</td><td>1931</td><td>2002</td></tr>",
                            "</table>"
                        ]
                    }
                }
            ],
            "execution_count": 28
        },
        {
            "cell_type": "markdown",
            "source": [
                "### **Patron Table**\n",
                "\n",
                "To create the **patron**, you will use the following code:\n",
                "\n",
                "```\n",
                "CREATE TABLE [DB].[schema].patron (\n",
                "    patron_id INT IDENTITY (1,1) PRIMARY KEY,\n",
                "    first_name VARCHAR(255),\n",
                "    last_name VARCHAR(255),\n",
                "    loan_id INT\n",
                ");\n",
                "```"
            ],
            "metadata": {
                "azdata_cell_guid": "a530aabe-e455-4369-8c06-db0e6001388c"
            },
            "attachments": {}
        },
        {
            "cell_type": "code",
            "source": [
                "-- create the patron table here:\r\n",
                "CREATE TABLE junkDB_stl_May2023.gomathy.patron (\r\n",
                "    patron_id INT IDENTITY (1,1) PRIMARY KEY,\r\n",
                "    first_name VARCHAR(255),\r\n",
                "    last_name VARCHAR(255),\r\n",
                "    loan_id INT\r\n",
                ");"
            ],
            "metadata": {
                "azdata_cell_guid": "864ecf06-5b94-4bcc-b281-6ab9b65a2343",
                "language": "sql"
            },
            "outputs": [
                {
                    "output_type": "display_data",
                    "data": {
                        "text/html": "Commands completed successfully."
                    },
                    "metadata": {}
                },
                {
                    "output_type": "display_data",
                    "data": {
                        "text/html": "Total execution time: 00:00:00.051"
                    },
                    "metadata": {}
                }
            ],
            "execution_count": 32
        },
        {
            "cell_type": "markdown",
            "source": [
                "Populate the **patron** table with the [patron\\_data.ipynb](https://github.com/speudusa/SQL-Part-5-Studio/tree/master/Starter%20Code) notebook."
            ],
            "metadata": {
                "azdata_cell_guid": "48f1e14c-8d2a-458c-8c75-4223fd5344ba"
            },
            "attachments": {}
        },
        {
            "cell_type": "code",
            "source": [
                "-- insert patron data into the table here:\n",
                "INSERT INTO junkDB_stl_May2023.gomathy.patron(first_name, last_name, loan_id)\n",
                "VALUES ('Jennifer', 'Slayny', NULL),\n",
                "('Susan', 'Traviss', NULL),\n",
                "('Vincent', 'Ritelli', NULL),\n",
                "('Tasia', 'Laybourne', NULL),\n",
                "('Wren', 'Gergler', NULL),\n",
                "('Tory', 'Lees', NULL),\n",
                "('Estelle', 'Di Lorio', NULL),\n",
                "('Dorian', 'Betje', NULL),\n",
                "('Frank', 'Jelk', NULL),\n",
                "('Chris', 'Endon', NULL),\n",
                "('Gillie', 'Fritz', NULL),\n",
                "('Leisha', 'Defty', NULL),\n",
                "('Erika', 'Bompass', NULL),\n",
                "('Gabe', 'Moxstead', NULL),\n",
                "('Blake', 'Teresse', NULL),\n",
                "('Joshua', 'Timmouth', NULL),\n",
                "('Tasha', 'Timmouth', NULL),\n",
                "('Neil', 'Davie', NULL),\n",
                " ('Emmeline', 'Pitherick', NULL),\n",
                "('Josiah', 'Staner', NULL),\n",
                "('James', 'Greetham', NULL),\n",
                " ('Isaac', 'Barstowk', NULL),\n",
                "('Dean', 'Nelane', NULL),\n",
                "('Carolina', 'Cranmere', NULL),\n",
                "('Champ', 'Lardiner', NULL),\n",
                " ('Abbie', 'Quaif', NULL),\n",
                " ('Camile', 'Milbourne', NULL),\n",
                " ('Quentin', 'Crose', NULL),\n",
                " ('Silvano', 'Horlick', NULL),\n",
                " ('Phyllis', 'Cicchillo', NULL),\n",
                " ('Jerrie', 'Brownhall', NULL),\n",
                "('Ludovika', 'Leist', NULL),\n",
                " ('Tara', 'Knatt', NULL),\n",
                "('Kelsie', 'Parkson', NULL),\n",
                "('Jodi', 'Leopard', NULL),\n",
                "('Rosanna', 'Cultcheth', NULL),\n",
                " ('Remy', 'Fairpool', NULL),\n",
                " ('Megan', 'Blyth', NULL),\n",
                " ('Rikki', 'McLernon', NULL),\n",
                " ('Clare', 'Haacker', NULL),\n",
                " ('Vincent', 'Chettle', NULL),\n",
                " ('Sybil', 'Costanza', NULL),\n",
                " ('Jonas', 'Sinclare', NULL),\n",
                "('Kathleen', 'Welband', NULL),\n",
                " ('Kylie', 'Crannage', NULL),\n",
                " ('Evelyn', 'Tarajo', NULL),\n",
                " ('Oliver', 'Caulson', NULL)\n",
                "     \n",
                ""
            ],
            "metadata": {
                "azdata_cell_guid": "8aa02813-50d7-4c02-9c0f-cf5da207a0b1",
                "tags": [],
                "language": "sql"
            },
            "outputs": [
                {
                    "output_type": "display_data",
                    "data": {
                        "text/html": "(47 rows affected)"
                    },
                    "metadata": {}
                },
                {
                    "output_type": "display_data",
                    "data": {
                        "text/html": "Total execution time: 00:00:00.050"
                    },
                    "metadata": {}
                }
            ],
            "execution_count": 38
        },
        {
            "cell_type": "code",
            "source": [
                "select * from junkDB_stl_May2023.gomathy.patron"
            ],
            "metadata": {
                "language": "sql",
                "azdata_cell_guid": "18c531be-df36-4a1a-b4ec-e23bf8e6a584"
            },
            "outputs": [
                {
                    "output_type": "display_data",
                    "data": {
                        "text/html": "(47 rows affected)"
                    },
                    "metadata": {}
                },
                {
                    "output_type": "display_data",
                    "data": {
                        "text/html": "Total execution time: 00:00:00.048"
                    },
                    "metadata": {}
                },
                {
                    "output_type": "execute_result",
                    "metadata": {},
                    "execution_count": 39,
                    "data": {
                        "application/vnd.dataresource+json": {
                            "schema": {
                                "fields": [
                                    {
                                        "name": "patron_id"
                                    },
                                    {
                                        "name": "first_name"
                                    },
                                    {
                                        "name": "last_name"
                                    },
                                    {
                                        "name": "loan_id"
                                    }
                                ]
                            },
                            "data": [
                                {
                                    "patron_id": "1",
                                    "first_name": "Jennifer",
                                    "last_name": "Slayny",
                                    "loan_id": "NULL"
                                },
                                {
                                    "patron_id": "2",
                                    "first_name": "Susan",
                                    "last_name": "Traviss",
                                    "loan_id": "NULL"
                                },
                                {
                                    "patron_id": "3",
                                    "first_name": "Vincent",
                                    "last_name": "Ritelli",
                                    "loan_id": "NULL"
                                },
                                {
                                    "patron_id": "4",
                                    "first_name": "Tasia",
                                    "last_name": "Laybourne",
                                    "loan_id": "NULL"
                                },
                                {
                                    "patron_id": "5",
                                    "first_name": "Wren",
                                    "last_name": "Gergler",
                                    "loan_id": "NULL"
                                },
                                {
                                    "patron_id": "6",
                                    "first_name": "Tory",
                                    "last_name": "Lees",
                                    "loan_id": "NULL"
                                },
                                {
                                    "patron_id": "7",
                                    "first_name": "Estelle",
                                    "last_name": "Di Lorio",
                                    "loan_id": "NULL"
                                },
                                {
                                    "patron_id": "8",
                                    "first_name": "Dorian",
                                    "last_name": "Betje",
                                    "loan_id": "NULL"
                                },
                                {
                                    "patron_id": "9",
                                    "first_name": "Frank",
                                    "last_name": "Jelk",
                                    "loan_id": "NULL"
                                },
                                {
                                    "patron_id": "10",
                                    "first_name": "Chris",
                                    "last_name": "Endon",
                                    "loan_id": "NULL"
                                },
                                {
                                    "patron_id": "11",
                                    "first_name": "Gillie",
                                    "last_name": "Fritz",
                                    "loan_id": "NULL"
                                },
                                {
                                    "patron_id": "12",
                                    "first_name": "Leisha",
                                    "last_name": "Defty",
                                    "loan_id": "NULL"
                                },
                                {
                                    "patron_id": "13",
                                    "first_name": "Erika",
                                    "last_name": "Bompass",
                                    "loan_id": "NULL"
                                },
                                {
                                    "patron_id": "14",
                                    "first_name": "Gabe",
                                    "last_name": "Moxstead",
                                    "loan_id": "NULL"
                                },
                                {
                                    "patron_id": "15",
                                    "first_name": "Blake",
                                    "last_name": "Teresse",
                                    "loan_id": "NULL"
                                },
                                {
                                    "patron_id": "16",
                                    "first_name": "Joshua",
                                    "last_name": "Timmouth",
                                    "loan_id": "NULL"
                                },
                                {
                                    "patron_id": "17",
                                    "first_name": "Tasha",
                                    "last_name": "Timmouth",
                                    "loan_id": "NULL"
                                },
                                {
                                    "patron_id": "18",
                                    "first_name": "Neil",
                                    "last_name": "Davie",
                                    "loan_id": "NULL"
                                },
                                {
                                    "patron_id": "19",
                                    "first_name": "Emmeline",
                                    "last_name": "Pitherick",
                                    "loan_id": "NULL"
                                },
                                {
                                    "patron_id": "20",
                                    "first_name": "Josiah",
                                    "last_name": "Staner",
                                    "loan_id": "NULL"
                                },
                                {
                                    "patron_id": "21",
                                    "first_name": "James",
                                    "last_name": "Greetham",
                                    "loan_id": "NULL"
                                },
                                {
                                    "patron_id": "22",
                                    "first_name": "Isaac",
                                    "last_name": "Barstowk",
                                    "loan_id": "NULL"
                                },
                                {
                                    "patron_id": "23",
                                    "first_name": "Dean",
                                    "last_name": "Nelane",
                                    "loan_id": "NULL"
                                },
                                {
                                    "patron_id": "24",
                                    "first_name": "Carolina",
                                    "last_name": "Cranmere",
                                    "loan_id": "NULL"
                                },
                                {
                                    "patron_id": "25",
                                    "first_name": "Champ",
                                    "last_name": "Lardiner",
                                    "loan_id": "NULL"
                                },
                                {
                                    "patron_id": "26",
                                    "first_name": "Abbie",
                                    "last_name": "Quaif",
                                    "loan_id": "NULL"
                                },
                                {
                                    "patron_id": "27",
                                    "first_name": "Camile",
                                    "last_name": "Milbourne",
                                    "loan_id": "NULL"
                                },
                                {
                                    "patron_id": "28",
                                    "first_name": "Quentin",
                                    "last_name": "Crose",
                                    "loan_id": "NULL"
                                },
                                {
                                    "patron_id": "29",
                                    "first_name": "Silvano",
                                    "last_name": "Horlick",
                                    "loan_id": "NULL"
                                },
                                {
                                    "patron_id": "30",
                                    "first_name": "Phyllis",
                                    "last_name": "Cicchillo",
                                    "loan_id": "NULL"
                                },
                                {
                                    "patron_id": "31",
                                    "first_name": "Jerrie",
                                    "last_name": "Brownhall",
                                    "loan_id": "NULL"
                                },
                                {
                                    "patron_id": "32",
                                    "first_name": "Ludovika",
                                    "last_name": "Leist",
                                    "loan_id": "NULL"
                                },
                                {
                                    "patron_id": "33",
                                    "first_name": "Tara",
                                    "last_name": "Knatt",
                                    "loan_id": "NULL"
                                },
                                {
                                    "patron_id": "34",
                                    "first_name": "Kelsie",
                                    "last_name": "Parkson",
                                    "loan_id": "NULL"
                                },
                                {
                                    "patron_id": "35",
                                    "first_name": "Jodi",
                                    "last_name": "Leopard",
                                    "loan_id": "NULL"
                                },
                                {
                                    "patron_id": "36",
                                    "first_name": "Rosanna",
                                    "last_name": "Cultcheth",
                                    "loan_id": "NULL"
                                },
                                {
                                    "patron_id": "37",
                                    "first_name": "Remy",
                                    "last_name": "Fairpool",
                                    "loan_id": "NULL"
                                },
                                {
                                    "patron_id": "38",
                                    "first_name": "Megan",
                                    "last_name": "Blyth",
                                    "loan_id": "NULL"
                                },
                                {
                                    "patron_id": "39",
                                    "first_name": "Rikki",
                                    "last_name": "McLernon",
                                    "loan_id": "NULL"
                                },
                                {
                                    "patron_id": "40",
                                    "first_name": "Clare",
                                    "last_name": "Haacker",
                                    "loan_id": "NULL"
                                },
                                {
                                    "patron_id": "41",
                                    "first_name": "Vincent",
                                    "last_name": "Chettle",
                                    "loan_id": "NULL"
                                },
                                {
                                    "patron_id": "42",
                                    "first_name": "Sybil",
                                    "last_name": "Costanza",
                                    "loan_id": "NULL"
                                },
                                {
                                    "patron_id": "43",
                                    "first_name": "Jonas",
                                    "last_name": "Sinclare",
                                    "loan_id": "NULL"
                                },
                                {
                                    "patron_id": "44",
                                    "first_name": "Kathleen",
                                    "last_name": "Welband",
                                    "loan_id": "NULL"
                                },
                                {
                                    "patron_id": "45",
                                    "first_name": "Kylie",
                                    "last_name": "Crannage",
                                    "loan_id": "NULL"
                                },
                                {
                                    "patron_id": "46",
                                    "first_name": "Evelyn",
                                    "last_name": "Tarajo",
                                    "loan_id": "NULL"
                                },
                                {
                                    "patron_id": "47",
                                    "first_name": "Oliver",
                                    "last_name": "Caulson",
                                    "loan_id": "NULL"
                                }
                            ]
                        },
                        "text/html": [
                            "<table>",
                            "<tr><th>patron_id</th><th>first_name</th><th>last_name</th><th>loan_id</th></tr>",
                            "<tr><td>1</td><td>Jennifer</td><td>Slayny</td><td>NULL</td></tr>",
                            "<tr><td>2</td><td>Susan</td><td>Traviss</td><td>NULL</td></tr>",
                            "<tr><td>3</td><td>Vincent</td><td>Ritelli</td><td>NULL</td></tr>",
                            "<tr><td>4</td><td>Tasia</td><td>Laybourne</td><td>NULL</td></tr>",
                            "<tr><td>5</td><td>Wren</td><td>Gergler</td><td>NULL</td></tr>",
                            "<tr><td>6</td><td>Tory</td><td>Lees</td><td>NULL</td></tr>",
                            "<tr><td>7</td><td>Estelle</td><td>Di Lorio</td><td>NULL</td></tr>",
                            "<tr><td>8</td><td>Dorian</td><td>Betje</td><td>NULL</td></tr>",
                            "<tr><td>9</td><td>Frank</td><td>Jelk</td><td>NULL</td></tr>",
                            "<tr><td>10</td><td>Chris</td><td>Endon</td><td>NULL</td></tr>",
                            "<tr><td>11</td><td>Gillie</td><td>Fritz</td><td>NULL</td></tr>",
                            "<tr><td>12</td><td>Leisha</td><td>Defty</td><td>NULL</td></tr>",
                            "<tr><td>13</td><td>Erika</td><td>Bompass</td><td>NULL</td></tr>",
                            "<tr><td>14</td><td>Gabe</td><td>Moxstead</td><td>NULL</td></tr>",
                            "<tr><td>15</td><td>Blake</td><td>Teresse</td><td>NULL</td></tr>",
                            "<tr><td>16</td><td>Joshua</td><td>Timmouth</td><td>NULL</td></tr>",
                            "<tr><td>17</td><td>Tasha</td><td>Timmouth</td><td>NULL</td></tr>",
                            "<tr><td>18</td><td>Neil</td><td>Davie</td><td>NULL</td></tr>",
                            "<tr><td>19</td><td>Emmeline</td><td>Pitherick</td><td>NULL</td></tr>",
                            "<tr><td>20</td><td>Josiah</td><td>Staner</td><td>NULL</td></tr>",
                            "<tr><td>21</td><td>James</td><td>Greetham</td><td>NULL</td></tr>",
                            "<tr><td>22</td><td>Isaac</td><td>Barstowk</td><td>NULL</td></tr>",
                            "<tr><td>23</td><td>Dean</td><td>Nelane</td><td>NULL</td></tr>",
                            "<tr><td>24</td><td>Carolina</td><td>Cranmere</td><td>NULL</td></tr>",
                            "<tr><td>25</td><td>Champ</td><td>Lardiner</td><td>NULL</td></tr>",
                            "<tr><td>26</td><td>Abbie</td><td>Quaif</td><td>NULL</td></tr>",
                            "<tr><td>27</td><td>Camile</td><td>Milbourne</td><td>NULL</td></tr>",
                            "<tr><td>28</td><td>Quentin</td><td>Crose</td><td>NULL</td></tr>",
                            "<tr><td>29</td><td>Silvano</td><td>Horlick</td><td>NULL</td></tr>",
                            "<tr><td>30</td><td>Phyllis</td><td>Cicchillo</td><td>NULL</td></tr>",
                            "<tr><td>31</td><td>Jerrie</td><td>Brownhall</td><td>NULL</td></tr>",
                            "<tr><td>32</td><td>Ludovika</td><td>Leist</td><td>NULL</td></tr>",
                            "<tr><td>33</td><td>Tara</td><td>Knatt</td><td>NULL</td></tr>",
                            "<tr><td>34</td><td>Kelsie</td><td>Parkson</td><td>NULL</td></tr>",
                            "<tr><td>35</td><td>Jodi</td><td>Leopard</td><td>NULL</td></tr>",
                            "<tr><td>36</td><td>Rosanna</td><td>Cultcheth</td><td>NULL</td></tr>",
                            "<tr><td>37</td><td>Remy</td><td>Fairpool</td><td>NULL</td></tr>",
                            "<tr><td>38</td><td>Megan</td><td>Blyth</td><td>NULL</td></tr>",
                            "<tr><td>39</td><td>Rikki</td><td>McLernon</td><td>NULL</td></tr>",
                            "<tr><td>40</td><td>Clare</td><td>Haacker</td><td>NULL</td></tr>",
                            "<tr><td>41</td><td>Vincent</td><td>Chettle</td><td>NULL</td></tr>",
                            "<tr><td>42</td><td>Sybil</td><td>Costanza</td><td>NULL</td></tr>",
                            "<tr><td>43</td><td>Jonas</td><td>Sinclare</td><td>NULL</td></tr>",
                            "<tr><td>44</td><td>Kathleen</td><td>Welband</td><td>NULL</td></tr>",
                            "<tr><td>45</td><td>Kylie</td><td>Crannage</td><td>NULL</td></tr>",
                            "<tr><td>46</td><td>Evelyn</td><td>Tarajo</td><td>NULL</td></tr>",
                            "<tr><td>47</td><td>Oliver</td><td>Caulson</td><td>NULL</td></tr>",
                            "</table>"
                        ]
                    }
                }
            ],
            "execution_count": 39
        },
        {
            "cell_type": "markdown",
            "source": [
                "### **Genre Table**\n",
                "\n",
                "To create the **genre** table, use the following code:\n",
                "\n",
                "```\n",
                "CREATE TABLE [DB].[schema].genre (\n",
                "    genre_id INT PRIMARY KEY,\n",
                "    genres VARCHAR(100)\n",
                ");\n",
                "```"
            ],
            "metadata": {
                "azdata_cell_guid": "d7e74ee6-1ca3-4e79-beb5-04543b03b7cf"
            },
            "attachments": {}
        },
        {
            "cell_type": "code",
            "source": [
                "-- create genre table here:\r\n",
                "\r\n",
                "CREATE TABLE junkDB_stl_May2023.gomathy.genre (\r\n",
                "    genre_id INT PRIMARY KEY,\r\n",
                "    genres VARCHAR(100)\r\n",
                ");"
            ],
            "metadata": {
                "azdata_cell_guid": "90f553ee-b7e8-4509-8ac7-bf81c0b42158",
                "language": "sql"
            },
            "outputs": [
                {
                    "output_type": "display_data",
                    "data": {
                        "text/html": "Commands completed successfully."
                    },
                    "metadata": {}
                },
                {
                    "output_type": "display_data",
                    "data": {
                        "text/html": "Total execution time: 00:00:00.039"
                    },
                    "metadata": {}
                }
            ],
            "execution_count": 40
        },
        {
            "cell_type": "markdown",
            "source": [
                "Populate the **genre** table with the [genre\\_data.ipybn](https://github.com/speudusa/SQL-Part-5-Studio/tree/master/Starter%20Code) notebook."
            ],
            "metadata": {
                "azdata_cell_guid": "ed09922e-5d4f-437a-97c6-9bb052839503"
            },
            "attachments": {}
        },
        {
            "cell_type": "code",
            "source": [
                "-- insert the genre data into the table here:\r\n",
                "\r\n",
                "INSERT INTO junkDB_stl_May2023.gomathy.genre(genre_id, genres)\r\n",
                "VALUES (1, 'Fantasy'),\r\n",
                " (2, 'Adventure'),\r\n",
                "(3, 'Romance'),\r\n",
                " (4, 'Contemporary'),\r\n",
                " (5, 'Dystopian'),\r\n",
                " (6, 'Mystery'),\r\n",
                " (7, 'Horror'),\r\n",
                " (8, 'Thriller'),\r\n",
                " (9, 'Paranormal'),\r\n",
                " (10, 'Historical Fiction'),\r\n",
                " (11, 'Science Fiction'),\r\n",
                " (12, 'Memoir'),\r\n",
                " (13, 'Cooking'),\r\n",
                " (14, 'Art'),\r\n",
                " (15, 'Self-Help'),\r\n",
                " (16, 'Development'),\r\n",
                " (17, 'Motivational'),\r\n",
                " (18, 'Health'),\r\n",
                "(19, 'History'),\r\n",
                "(20, 'Travel'),\r\n",
                " (21, 'Guide'),\r\n",
                " (22, 'Families and Relationships'),\r\n",
                " (23, 'Humor'),\r\n",
                " (24, 'Childrens'),\r\n",
                " (25, 'Reference'),\r\n",
                " (26, 'Poetry')\r\n",
                "     "
            ],
            "metadata": {
                "azdata_cell_guid": "d21f25bc-3bc0-4c48-932f-728fdc2c0f1b",
                "language": "sql"
            },
            "outputs": [
                {
                    "output_type": "display_data",
                    "data": {
                        "text/html": "(26 rows affected)"
                    },
                    "metadata": {}
                },
                {
                    "output_type": "display_data",
                    "data": {
                        "text/html": "Total execution time: 00:00:00.046"
                    },
                    "metadata": {}
                }
            ],
            "execution_count": 41
        },
        {
            "cell_type": "code",
            "source": [
                "select * from junkDB_stl_May2023.gomathy.genre"
            ],
            "metadata": {
                "language": "sql",
                "azdata_cell_guid": "b2a76d9f-0805-435f-88dd-8118eebbca7f"
            },
            "outputs": [
                {
                    "output_type": "display_data",
                    "data": {
                        "text/html": "(26 rows affected)"
                    },
                    "metadata": {}
                },
                {
                    "output_type": "display_data",
                    "data": {
                        "text/html": "Total execution time: 00:00:00.049"
                    },
                    "metadata": {}
                },
                {
                    "output_type": "execute_result",
                    "metadata": {},
                    "execution_count": 42,
                    "data": {
                        "application/vnd.dataresource+json": {
                            "schema": {
                                "fields": [
                                    {
                                        "name": "genre_id"
                                    },
                                    {
                                        "name": "genres"
                                    }
                                ]
                            },
                            "data": [
                                {
                                    "genre_id": "1",
                                    "genres": "Fantasy"
                                },
                                {
                                    "genre_id": "2",
                                    "genres": "Adventure"
                                },
                                {
                                    "genre_id": "3",
                                    "genres": "Romance"
                                },
                                {
                                    "genre_id": "4",
                                    "genres": "Contemporary"
                                },
                                {
                                    "genre_id": "5",
                                    "genres": "Dystopian"
                                },
                                {
                                    "genre_id": "6",
                                    "genres": "Mystery"
                                },
                                {
                                    "genre_id": "7",
                                    "genres": "Horror"
                                },
                                {
                                    "genre_id": "8",
                                    "genres": "Thriller"
                                },
                                {
                                    "genre_id": "9",
                                    "genres": "Paranormal"
                                },
                                {
                                    "genre_id": "10",
                                    "genres": "Historical Fiction"
                                },
                                {
                                    "genre_id": "11",
                                    "genres": "Science Fiction"
                                },
                                {
                                    "genre_id": "12",
                                    "genres": "Memoir"
                                },
                                {
                                    "genre_id": "13",
                                    "genres": "Cooking"
                                },
                                {
                                    "genre_id": "14",
                                    "genres": "Art"
                                },
                                {
                                    "genre_id": "15",
                                    "genres": "Self-Help"
                                },
                                {
                                    "genre_id": "16",
                                    "genres": "Development"
                                },
                                {
                                    "genre_id": "17",
                                    "genres": "Motivational"
                                },
                                {
                                    "genre_id": "18",
                                    "genres": "Health"
                                },
                                {
                                    "genre_id": "19",
                                    "genres": "History"
                                },
                                {
                                    "genre_id": "20",
                                    "genres": "Travel"
                                },
                                {
                                    "genre_id": "21",
                                    "genres": "Guide"
                                },
                                {
                                    "genre_id": "22",
                                    "genres": "Families and Relationships"
                                },
                                {
                                    "genre_id": "23",
                                    "genres": "Humor"
                                },
                                {
                                    "genre_id": "24",
                                    "genres": "Childrens"
                                },
                                {
                                    "genre_id": "25",
                                    "genres": "Reference"
                                },
                                {
                                    "genre_id": "26",
                                    "genres": "Poetry"
                                }
                            ]
                        },
                        "text/html": [
                            "<table>",
                            "<tr><th>genre_id</th><th>genres</th></tr>",
                            "<tr><td>1</td><td>Fantasy</td></tr>",
                            "<tr><td>2</td><td>Adventure</td></tr>",
                            "<tr><td>3</td><td>Romance</td></tr>",
                            "<tr><td>4</td><td>Contemporary</td></tr>",
                            "<tr><td>5</td><td>Dystopian</td></tr>",
                            "<tr><td>6</td><td>Mystery</td></tr>",
                            "<tr><td>7</td><td>Horror</td></tr>",
                            "<tr><td>8</td><td>Thriller</td></tr>",
                            "<tr><td>9</td><td>Paranormal</td></tr>",
                            "<tr><td>10</td><td>Historical Fiction</td></tr>",
                            "<tr><td>11</td><td>Science Fiction</td></tr>",
                            "<tr><td>12</td><td>Memoir</td></tr>",
                            "<tr><td>13</td><td>Cooking</td></tr>",
                            "<tr><td>14</td><td>Art</td></tr>",
                            "<tr><td>15</td><td>Self-Help</td></tr>",
                            "<tr><td>16</td><td>Development</td></tr>",
                            "<tr><td>17</td><td>Motivational</td></tr>",
                            "<tr><td>18</td><td>Health</td></tr>",
                            "<tr><td>19</td><td>History</td></tr>",
                            "<tr><td>20</td><td>Travel</td></tr>",
                            "<tr><td>21</td><td>Guide</td></tr>",
                            "<tr><td>22</td><td>Families and Relationships</td></tr>",
                            "<tr><td>23</td><td>Humor</td></tr>",
                            "<tr><td>24</td><td>Childrens</td></tr>",
                            "<tr><td>25</td><td>Reference</td></tr>",
                            "<tr><td>26</td><td>Poetry</td></tr>",
                            "</table>"
                        ]
                    }
                }
            ],
            "execution_count": 42
        },
        {
            "cell_type": "markdown",
            "source": [
                "### **Loan Table**\n",
                "\n",
                "The **loan** table will be created differently and will stay empty.  We will use our other tables to populate the loan table using queries shortly.  \n",
                "\n",
                "Use the following code to create the **loan** table:\n",
                "\n",
                "```\n",
                "CREATE TABLE [DB].[schema].loan (\n",
                "    loan_id INT IDENTITY(1,1) PRIMARY KEY,\n",
                "    patron_id INT,\n",
                "    date_out DATE,\n",
                "    date_in DATE,\n",
                "    book_id INT\n",
                "    CONSTRAINT book_id FOREIGN KEY (book_id) REFERENCES [DB].[schema].book (book_id)\n",
                "        ON UPDATE SET NULL\n",
                "        ON DELETE SET NULL\n",
                ");\n",
                "```\n",
                "\n",
                "_Notes about the syntax:_\n",
                "\n",
                "> We are adding a [foreign key](https://www.w3schools.com/sql/sql_foreignkey.asp) to this table to reference a different table's primary key.  In this studio, we are going to link the **loan** table to the **book** table using keys.  The **loan** table will reference and add book id numbers based on the **book** table's book\\_id.  We are also providing [constraints](https://www.w3schools.com/sql/sql_constraints.asp) to be very specific about what type of data is allowed in this column."
            ],
            "metadata": {
                "azdata_cell_guid": "111aa17f-6295-4780-b56a-c580951ba446"
            },
            "attachments": {}
        },
        {
            "cell_type": "code",
            "source": [
                "-- Code the loan table.  \n",
                "-- Note that you will need to update the first and seventh lines with your database and schema info.\n",
                "CREATE TABLE junkDB_stl_May2023.gomathy.loan (\n",
                "    loan_id INT IDENTITY(1,1) PRIMARY KEY,\n",
                "    patron_id INT,\n",
                "    date_out DATE,\n",
                "    date_in DATE,\n",
                "    book_id INT\n",
                "    CONSTRAINT book_id FOREIGN KEY (book_id) REFERENCES junkDB_stl_May2023.gomathy.book (book_id)\n",
                "        ON UPDATE SET NULL\n",
                "        ON DELETE SET NULL\n",
                ");"
            ],
            "metadata": {
                "azdata_cell_guid": "0c02072d-832a-44bb-aa28-c8e273cc930a",
                "language": "sql"
            },
            "outputs": [
                {
                    "output_type": "display_data",
                    "data": {
                        "text/html": "Commands completed successfully."
                    },
                    "metadata": {}
                },
                {
                    "output_type": "display_data",
                    "data": {
                        "text/html": "Total execution time: 00:00:00.051"
                    },
                    "metadata": {}
                }
            ],
            "execution_count": 43
        },
        {
            "cell_type": "code",
            "source": [
                "select * from junkDB_stl_May2023.gomathy.loan"
            ],
            "metadata": {
                "language": "sql",
                "azdata_cell_guid": "9eeada8c-eab5-48fd-bb69-fa071429760e"
            },
            "outputs": [
                {
                    "output_type": "display_data",
                    "data": {
                        "text/html": "(0 rows affected)"
                    },
                    "metadata": {}
                },
                {
                    "output_type": "display_data",
                    "data": {
                        "text/html": "Total execution time: 00:00:00.056"
                    },
                    "metadata": {}
                },
                {
                    "output_type": "execute_result",
                    "metadata": {},
                    "execution_count": 51,
                    "data": {
                        "application/vnd.dataresource+json": {
                            "schema": {
                                "fields": [
                                    {
                                        "name": "loan_id"
                                    },
                                    {
                                        "name": "patron_id"
                                    },
                                    {
                                        "name": "date_out"
                                    },
                                    {
                                        "name": "date_in"
                                    },
                                    {
                                        "name": "book_id"
                                    }
                                ]
                            },
                            "data": []
                        },
                        "text/html": [
                            "<table>",
                            "<tr><th>loan_id</th><th>patron_id</th><th>date_out</th><th>date_in</th><th>book_id</th></tr>",
                            "</table>"
                        ]
                    }
                }
            ],
            "execution_count": 51
        },
        {
            "cell_type": "markdown",
            "source": [
                ""
            ],
            "metadata": {
                "azdata_cell_guid": "7b8490ca-1d4f-4beb-837d-7ef1ee681865"
            },
            "attachments": {}
        },
        {
            "cell_type": "markdown",
            "source": [
                "## **Part B: Warm-Up Queries**\n",
                "\n",
                "Write the following queries to get warmed up and make sure your tables have populated appropriately. \n",
                "\n",
                "1. Return the mystery book titles and their ISBNs.  \n",
                "      \n",
                "    \n",
                "2. Return all of the titles and the author's first and last names for books written by authors who are currently living."
            ],
            "metadata": {
                "azdata_cell_guid": "c52719ab-94f3-4eff-97fa-1f928892ef3b"
            },
            "attachments": {}
        },
        {
            "cell_type": "code",
            "source": [
                "--Code your warm ups here:\r\n",
                "\r\n",
                "select title, isbn from junkDB_stl_May2023.gomathy.book\r\n",
                "where genre_id = 6\r\n",
                "\r\n",
                "\r\n",
                "select b.title, a.first_name, a.last_name, a.death_year\r\n",
                "from junkDB_stl_May2023.gomathy.book as b\r\n",
                "inner join junkDB_stl_May2023.gomathy.author as a \r\n",
                "on b.author_id = a.author_id\r\n",
                "where a.death_year IS NULL"
            ],
            "metadata": {
                "azdata_cell_guid": "95590c74-e772-4e0e-b35d-346409d9d4c0",
                "language": "sql",
                "tags": []
            },
            "outputs": [
                {
                    "output_type": "display_data",
                    "data": {
                        "text/html": "(8 rows affected)"
                    },
                    "metadata": {}
                },
                {
                    "output_type": "display_data",
                    "data": {
                        "text/html": "(0 rows affected)"
                    },
                    "metadata": {}
                },
                {
                    "output_type": "display_data",
                    "data": {
                        "text/html": "Total execution time: 00:00:00.046"
                    },
                    "metadata": {}
                },
                {
                    "output_type": "execute_result",
                    "metadata": {},
                    "execution_count": 53,
                    "data": {
                        "application/vnd.dataresource+json": {
                            "schema": {
                                "fields": [
                                    {
                                        "name": "title"
                                    },
                                    {
                                        "name": "isbn"
                                    }
                                ]
                            },
                            "data": [
                                {
                                    "title": "And Then There Were None",
                                    "isbn": "335973357"
                                },
                                {
                                    "title": "Still Life",
                                    "isbn": "455128657"
                                },
                                {
                                    "title": "A Fatal Grace",
                                    "isbn": "832517012"
                                },
                                {
                                    "title": "The Cruelest Month",
                                    "isbn": "419285319"
                                },
                                {
                                    "title": "The Murder Stone",
                                    "isbn": "656621400"
                                },
                                {
                                    "title": "The Brutal Telling",
                                    "isbn": "144255852"
                                },
                                {
                                    "title": "Bury Your Dead",
                                    "isbn": "208180961"
                                },
                                {
                                    "title": "A Trick of the Light",
                                    "isbn": "93451531"
                                }
                            ]
                        },
                        "text/html": [
                            "<table>",
                            "<tr><th>title</th><th>isbn</th></tr>",
                            "<tr><td>And Then There Were None</td><td>335973357</td></tr>",
                            "<tr><td>Still Life</td><td>455128657</td></tr>",
                            "<tr><td>A Fatal Grace</td><td>832517012</td></tr>",
                            "<tr><td>The Cruelest Month</td><td>419285319</td></tr>",
                            "<tr><td>The Murder Stone</td><td>656621400</td></tr>",
                            "<tr><td>The Brutal Telling</td><td>144255852</td></tr>",
                            "<tr><td>Bury Your Dead</td><td>208180961</td></tr>",
                            "<tr><td>A Trick of the Light</td><td>93451531</td></tr>",
                            "</table>"
                        ]
                    }
                },
                {
                    "output_type": "execute_result",
                    "metadata": {},
                    "execution_count": 53,
                    "data": {
                        "application/vnd.dataresource+json": {
                            "schema": {
                                "fields": [
                                    {
                                        "name": "title"
                                    },
                                    {
                                        "name": "first_name"
                                    },
                                    {
                                        "name": "last_name"
                                    },
                                    {
                                        "name": "death_year"
                                    }
                                ]
                            },
                            "data": []
                        },
                        "text/html": [
                            "<table>",
                            "<tr><th>title</th><th>first_name</th><th>last_name</th><th>death_year</th></tr>",
                            "</table>"
                        ]
                    }
                }
            ],
            "execution_count": 53
        },
        {
            "cell_type": "markdown",
            "source": [
                "## **Part C: Loan Out a Book**\n",
                "\n",
                "The library would like you to create a query that will update the database when a book is loaned out.  \n",
                "\n",
                "This query needs to perform the following functions:\n",
                "\n",
                "1. Change **available** to **0** (false) for the appropriate book.\n",
                "    \n",
                "2. Add a new row to the **loan** table with today's date as the **date\\_out** and the ids in the row matching the appropriate **patron\\_id** and **book\\_id**.\n",
                "    \n",
                "3. Update the appropriate **patron** with the **loan\\_id** for the new row created in the **loan** table.\n",
                "    \n",
                "\n",
                "You can use any patron and book that strikes your fancy to create and test out this query.'\n",
                "\n",
                "> _Note:  Every time you test this, you will add an additional row to the output, creating a new loan id each time.  If you do not update the patron id, then a patron will have multiple loan ids.  This is not an issue for Part C;_ _however, this may cause issues when you work on Part F._"
            ],
            "metadata": {
                "azdata_cell_guid": "89fcab58-413b-4a19-99f2-6c3a7f880f9f"
            },
            "attachments": {}
        },
        {
            "cell_type": "code",
            "source": [
                "-- Create your query that will Loan Out a Book:\r\n",
                "\r\n",
                "-- DECLARE @book_id INT = 111 -- Replace with the appropriate book ID\r\n",
                "-- DECLARE @patron_id INT = 11 -- Replace with the appropriate patron ID\r\n",
                "-- DECLARE @today DATE = GETDATE(); -- Get the current date\r\n",
                "\r\n",
                "-- -- 1. Change available to 0 for the appropriate book\r\n",
                "-- UPDATE junkDB_stl_May2023.gomathy.book\r\n",
                "-- SET available = 0\r\n",
                "-- WHERE book_id = @book_id;\r\n",
                "\r\n",
                "-- -- 2. Add a new row to the loan table with today's date as the date_out\r\n",
                "-- INSERT INTO junkDB_stl_May2023.gomathy.loan (book_id, patron_id, date_out)\r\n",
                "-- VALUES (@book_id, @patron_id, @today);\r\n",
                "\r\n",
                "-- -- 3. Update the appropriate patron with the loan_id for the new row created in the loan table\r\n",
                "-- DECLARE @loan_id INT = SCOPE_IDENTITY(); -- Get the last inserted loan_id\r\n",
                "-- UPDATE junkDB_stl_May2023.gomathy.patron\r\n",
                "-- SET loan_id = @loan_id\r\n",
                "-- WHERE patron_id = @patron_id;\r\n",
                "\r\n",
                "--declare @today Date = getdate()\r\n",
                "update junkDB_stl_May2023.gomathy.Book\r\n",
                "set available = 0\r\n",
                "where book_id = 106\r\n",
                "\r\n",
                "insert into junkDB_stl_May2023.gomathy.loan\r\n",
                "(book_id,date_out,patron_id)\r\n",
                "values(1,SYSDATETIME(),1)\r\n",
                "\r\n",
                "update junkDB_stl_May2023.gomathy.patron \r\n",
                "set loan_id = 6\r\n",
                "where patron_id = 1"
            ],
            "metadata": {
                "azdata_cell_guid": "372104fd-303e-4be3-8b85-d4e4902fe9d9",
                "language": "sql"
            },
            "outputs": [
                {
                    "output_type": "display_data",
                    "data": {
                        "text/html": "(1 row affected)"
                    },
                    "metadata": {}
                },
                {
                    "output_type": "error",
                    "evalue": "Msg 547, Level 16, State 0, Line 27\r\nThe INSERT statement conflicted with the FOREIGN KEY constraint \"book_id\". The conflict occurred in database \"JunkDB_STL_May2023\", table \"gomathy.book\", column 'book_id'.",
                    "ename": "",
                    "traceback": []
                },
                {
                    "output_type": "display_data",
                    "data": {
                        "text/html": "The statement has been terminated."
                    },
                    "metadata": {}
                },
                {
                    "output_type": "display_data",
                    "data": {
                        "text/html": "(1 row affected)"
                    },
                    "metadata": {}
                },
                {
                    "output_type": "display_data",
                    "data": {
                        "text/html": "Total execution time: 00:00:00.044"
                    },
                    "metadata": {}
                }
            ],
            "execution_count": 79
        },
        {
            "cell_type": "code",
            "source": [
                "-- delete from junkDB_stl_May2023.gomathy.loan\r\n",
                "-- where loan_id =5\r\n",
                "\r\n",
                "\r\n",
                "select * from junkDB_stl_May2023.gomathy.loan"
            ],
            "metadata": {
                "language": "sql",
                "azdata_cell_guid": "dd0de30f-fee0-47b6-857c-d9342573d17f"
            },
            "outputs": [
                {
                    "output_type": "display_data",
                    "data": {
                        "text/html": "(0 rows affected)"
                    },
                    "metadata": {}
                },
                {
                    "output_type": "display_data",
                    "data": {
                        "text/html": "(1 row affected)"
                    },
                    "metadata": {}
                },
                {
                    "output_type": "display_data",
                    "data": {
                        "text/html": "Total execution time: 00:00:00.052"
                    },
                    "metadata": {}
                },
                {
                    "output_type": "execute_result",
                    "metadata": {},
                    "execution_count": 74,
                    "data": {
                        "application/vnd.dataresource+json": {
                            "schema": {
                                "fields": [
                                    {
                                        "name": "loan_id"
                                    },
                                    {
                                        "name": "patron_id"
                                    },
                                    {
                                        "name": "date_out"
                                    },
                                    {
                                        "name": "date_in"
                                    },
                                    {
                                        "name": "book_id"
                                    }
                                ]
                            },
                            "data": [
                                {
                                    "loan_id": "6",
                                    "patron_id": "11",
                                    "date_out": "2023-08-20",
                                    "date_in": "NULL",
                                    "book_id": "111"
                                }
                            ]
                        },
                        "text/html": [
                            "<table>",
                            "<tr><th>loan_id</th><th>patron_id</th><th>date_out</th><th>date_in</th><th>book_id</th></tr>",
                            "<tr><td>6</td><td>11</td><td>2023-08-20</td><td>NULL</td><td>111</td></tr>",
                            "</table>"
                        ]
                    }
                }
            ],
            "execution_count": 74
        },
        {
            "cell_type": "markdown",
            "source": [
                "## **Part D: Check a Book Back In**\n",
                "\n",
                "Work with the same patron and book as you create your query to check a book back into the library.\n",
                "\n",
                "The check a book back in, your query need to do the following:\n",
                "\n",
                "1. Change **available** to **1** (true) for the appropriate book.\n",
                "    \n",
                "2. Update the appropriate row in the **loan** table with today's date as the **date\\_in**.\n",
                "    \n",
                "3. Update the appropriate **patron** changing **loan\\_id** back to **NULL**.\n",
                "    \n",
                "\n",
                "Once you have created these queries, loan out 5 new books to 5 different patrons."
            ],
            "metadata": {
                "azdata_cell_guid": "21923b69-f92c-4f86-af0a-230df894c696"
            },
            "attachments": {}
        },
        {
            "cell_type": "code",
            "source": [
                "-- Create your Check a Book Back In query:\n",
                "declare @today Date = getdate()\n",
                "update junkDB_stl_May2023.gomathy.Book\n",
                "set available = 1\n",
                "where book_id = 111\n",
                "\n",
                "insert into junkDB_stl_May2023.gomathy.loan\n",
                "values(11,null,@today,111)\n",
                "\n",
                "update junkDB_stl_May2023.gomathy.patron \n",
                "set loan_id = null\n",
                "where patron_id = 11"
            ],
            "metadata": {
                "azdata_cell_guid": "80a81994-48b8-4b9e-a09c-5124e3fc85b2",
                "language": "sql"
            },
            "outputs": [
                {
                    "output_type": "display_data",
                    "data": {
                        "text/html": "(1 row affected)"
                    },
                    "metadata": {}
                },
                {
                    "output_type": "display_data",
                    "data": {
                        "text/html": "(1 row affected)"
                    },
                    "metadata": {}
                },
                {
                    "output_type": "display_data",
                    "data": {
                        "text/html": "(1 row affected)"
                    },
                    "metadata": {}
                },
                {
                    "output_type": "display_data",
                    "data": {
                        "text/html": "Total execution time: 00:00:00.048"
                    },
                    "metadata": {}
                }
            ],
            "execution_count": 75
        },
        {
            "cell_type": "code",
            "source": [
                "select * from junkDB_stl_May2023.gomathy.loan"
            ],
            "metadata": {
                "language": "sql",
                "azdata_cell_guid": "ef3d6151-3293-4e75-8e48-502dfd053e55"
            },
            "outputs": [
                {
                    "output_type": "display_data",
                    "data": {
                        "text/html": "(2 rows affected)"
                    },
                    "metadata": {}
                },
                {
                    "output_type": "display_data",
                    "data": {
                        "text/html": "Total execution time: 00:00:00.046"
                    },
                    "metadata": {}
                },
                {
                    "output_type": "execute_result",
                    "metadata": {},
                    "execution_count": 76,
                    "data": {
                        "application/vnd.dataresource+json": {
                            "schema": {
                                "fields": [
                                    {
                                        "name": "loan_id"
                                    },
                                    {
                                        "name": "patron_id"
                                    },
                                    {
                                        "name": "date_out"
                                    },
                                    {
                                        "name": "date_in"
                                    },
                                    {
                                        "name": "book_id"
                                    }
                                ]
                            },
                            "data": [
                                {
                                    "loan_id": "6",
                                    "patron_id": "11",
                                    "date_out": "2023-08-20",
                                    "date_in": "NULL",
                                    "book_id": "111"
                                },
                                {
                                    "loan_id": "7",
                                    "patron_id": "11",
                                    "date_out": "NULL",
                                    "date_in": "2023-08-20",
                                    "book_id": "111"
                                }
                            ]
                        },
                        "text/html": [
                            "<table>",
                            "<tr><th>loan_id</th><th>patron_id</th><th>date_out</th><th>date_in</th><th>book_id</th></tr>",
                            "<tr><td>6</td><td>11</td><td>2023-08-20</td><td>NULL</td><td>111</td></tr>",
                            "<tr><td>7</td><td>11</td><td>NULL</td><td>2023-08-20</td><td>111</td></tr>",
                            "</table>"
                        ]
                    }
                }
            ],
            "execution_count": 76
        },
        {
            "cell_type": "code",
            "source": [
                "update junkDB_stl_May2023.gomathy.Book\r\n",
                "set available = 0\r\n",
                "where book_id = 107\r\n",
                "\r\n",
                "update junkDB_stl_May2023.gomathy.Book\r\n",
                "set available = 0\r\n",
                "where book_id = 108\r\n",
                "\r\n",
                "update junkDB_stl_May2023.gomathy.Book\r\n",
                "set available = 0\r\n",
                "where book_id = 109\r\n",
                "\r\n",
                "update junkDB_stl_May2023.gomathy.Book\r\n",
                "set available = 0\r\n",
                "where book_id = 110\r\n",
                "\r\n",
                "update junkDB_stl_May2023.gomathy.Book\r\n",
                "set available = 0\r\n",
                "where book_id = 112\r\n",
                "\r\n",
                "insert into junkDB_stl_May2023.gomathy.loan\r\n",
                "(book_id,date_out,patron_id)\r\n",
                "values(107,SYSDATETIME(),2),\r\n",
                "   (108,SYSDATETIME(), 3),\r\n",
                "(109,SYSDATETIME(),4),\r\n",
                "(110,SYSDATETIME(),5),\r\n",
                "(112,SYSDATETIME(),6);\r\n",
                "\r\n",
                "update junkDB_stl_May2023.gomathy.patron \r\n",
                "set loan_id = 8\r\n",
                "where patron_id = 2\r\n",
                "\r\n",
                "update junkDB_stl_May2023.gomathy.patron \r\n",
                "set loan_id = 9\r\n",
                "where patron_id = 3\r\n",
                "\r\n",
                "update junkDB_stl_May2023.gomathy.patron \r\n",
                "set loan_id = 10\r\n",
                "where patron_id = 4\r\n",
                "\r\n",
                "update junkDB_stl_May2023.gomathy.patron \r\n",
                "set loan_id = 11\r\n",
                "where patron_id = 4\r\n",
                "\r\n",
                "update junkDB_stl_May2023.gomathy.patron \r\n",
                "set loan_id = 12\r\n",
                "where patron_id = 5"
            ],
            "metadata": {
                "language": "sql",
                "azdata_cell_guid": "48dc86c4-e84b-494d-81e1-3bf2cb0c6041"
            },
            "outputs": [
                {
                    "output_type": "display_data",
                    "data": {
                        "text/html": "(1 row affected)"
                    },
                    "metadata": {}
                },
                {
                    "output_type": "display_data",
                    "data": {
                        "text/html": "(1 row affected)"
                    },
                    "metadata": {}
                },
                {
                    "output_type": "display_data",
                    "data": {
                        "text/html": "(1 row affected)"
                    },
                    "metadata": {}
                },
                {
                    "output_type": "display_data",
                    "data": {
                        "text/html": "(1 row affected)"
                    },
                    "metadata": {}
                },
                {
                    "output_type": "display_data",
                    "data": {
                        "text/html": "(1 row affected)"
                    },
                    "metadata": {}
                },
                {
                    "output_type": "display_data",
                    "data": {
                        "text/html": "(5 rows affected)"
                    },
                    "metadata": {}
                },
                {
                    "output_type": "display_data",
                    "data": {
                        "text/html": "(1 row affected)"
                    },
                    "metadata": {}
                },
                {
                    "output_type": "display_data",
                    "data": {
                        "text/html": "(1 row affected)"
                    },
                    "metadata": {}
                },
                {
                    "output_type": "display_data",
                    "data": {
                        "text/html": "(1 row affected)"
                    },
                    "metadata": {}
                },
                {
                    "output_type": "display_data",
                    "data": {
                        "text/html": "(1 row affected)"
                    },
                    "metadata": {}
                },
                {
                    "output_type": "display_data",
                    "data": {
                        "text/html": "(1 row affected)"
                    },
                    "metadata": {}
                },
                {
                    "output_type": "display_data",
                    "data": {
                        "text/html": "Total execution time: 00:00:00.069"
                    },
                    "metadata": {}
                }
            ],
            "execution_count": 89
        },
        {
            "cell_type": "markdown",
            "source": [
                "## **Part E: Create a temp table**\n",
                "\n",
                "Write a query that returns a temporary table for a patron that shows them all of their loans.\n",
                "\n",
                "_Question to think about:_  Why might a temp table be a good option for this type of query?"
            ],
            "metadata": {
                "azdata_cell_guid": "66e2b5be-ddbf-44db-a903-2c2f08db02d3"
            },
            "attachments": {}
        },
        {
            "cell_type": "code",
            "source": [
                "-- Code your temp table here\r\n",
                "\r\n",
                "SELECT *\r\n",
                "INTO #patronloan\r\n",
                "FROM junkDB_stl_May2023.gomathy.loan;"
            ],
            "metadata": {
                "azdata_cell_guid": "0977ab8b-f0dd-42e5-aed8-79b511dda8bc",
                "language": "sql",
                "tags": []
            },
            "outputs": [
                {
                    "output_type": "display_data",
                    "data": {
                        "text/html": "(13 rows affected)"
                    },
                    "metadata": {}
                },
                {
                    "output_type": "display_data",
                    "data": {
                        "text/html": "Total execution time: 00:00:00.044"
                    },
                    "metadata": {}
                }
            ],
            "execution_count": 91
        },
        {
            "cell_type": "code",
            "source": [
                "select * from #patronloan"
            ],
            "metadata": {
                "language": "sql",
                "azdata_cell_guid": "e733835e-24ed-4227-a315-652355829fd8"
            },
            "outputs": [
                {
                    "output_type": "display_data",
                    "data": {
                        "text/html": "(13 rows affected)"
                    },
                    "metadata": {}
                },
                {
                    "output_type": "display_data",
                    "data": {
                        "text/html": "Total execution time: 00:00:00.047"
                    },
                    "metadata": {}
                },
                {
                    "output_type": "execute_result",
                    "metadata": {},
                    "execution_count": 92,
                    "data": {
                        "application/vnd.dataresource+json": {
                            "schema": {
                                "fields": [
                                    {
                                        "name": "loan_id"
                                    },
                                    {
                                        "name": "patron_id"
                                    },
                                    {
                                        "name": "date_out"
                                    },
                                    {
                                        "name": "date_in"
                                    },
                                    {
                                        "name": "book_id"
                                    }
                                ]
                            },
                            "data": [
                                {
                                    "loan_id": "6",
                                    "patron_id": "11",
                                    "date_out": "2023-08-20",
                                    "date_in": "NULL",
                                    "book_id": "111"
                                },
                                {
                                    "loan_id": "7",
                                    "patron_id": "11",
                                    "date_out": "NULL",
                                    "date_in": "2023-08-20",
                                    "book_id": "111"
                                },
                                {
                                    "loan_id": "8",
                                    "patron_id": "11",
                                    "date_out": "2023-08-22",
                                    "date_in": "NULL",
                                    "book_id": "111"
                                },
                                {
                                    "loan_id": "11",
                                    "patron_id": "2",
                                    "date_out": "2023-08-23",
                                    "date_in": "NULL",
                                    "book_id": "107"
                                },
                                {
                                    "loan_id": "12",
                                    "patron_id": "3",
                                    "date_out": "2023-08-23",
                                    "date_in": "NULL",
                                    "book_id": "108"
                                },
                                {
                                    "loan_id": "13",
                                    "patron_id": "4",
                                    "date_out": "2023-08-23",
                                    "date_in": "NULL",
                                    "book_id": "109"
                                },
                                {
                                    "loan_id": "14",
                                    "patron_id": "5",
                                    "date_out": "2023-08-23",
                                    "date_in": "NULL",
                                    "book_id": "110"
                                },
                                {
                                    "loan_id": "15",
                                    "patron_id": "6",
                                    "date_out": "2023-08-23",
                                    "date_in": "NULL",
                                    "book_id": "112"
                                },
                                {
                                    "loan_id": "16",
                                    "patron_id": "2",
                                    "date_out": "2023-08-23",
                                    "date_in": "NULL",
                                    "book_id": "107"
                                },
                                {
                                    "loan_id": "17",
                                    "patron_id": "3",
                                    "date_out": "2023-08-23",
                                    "date_in": "NULL",
                                    "book_id": "108"
                                },
                                {
                                    "loan_id": "18",
                                    "patron_id": "4",
                                    "date_out": "2023-08-23",
                                    "date_in": "NULL",
                                    "book_id": "109"
                                },
                                {
                                    "loan_id": "19",
                                    "patron_id": "5",
                                    "date_out": "2023-08-23",
                                    "date_in": "NULL",
                                    "book_id": "110"
                                },
                                {
                                    "loan_id": "20",
                                    "patron_id": "6",
                                    "date_out": "2023-08-23",
                                    "date_in": "NULL",
                                    "book_id": "112"
                                }
                            ]
                        },
                        "text/html": [
                            "<table>",
                            "<tr><th>loan_id</th><th>patron_id</th><th>date_out</th><th>date_in</th><th>book_id</th></tr>",
                            "<tr><td>6</td><td>11</td><td>2023-08-20</td><td>NULL</td><td>111</td></tr>",
                            "<tr><td>7</td><td>11</td><td>NULL</td><td>2023-08-20</td><td>111</td></tr>",
                            "<tr><td>8</td><td>11</td><td>2023-08-22</td><td>NULL</td><td>111</td></tr>",
                            "<tr><td>11</td><td>2</td><td>2023-08-23</td><td>NULL</td><td>107</td></tr>",
                            "<tr><td>12</td><td>3</td><td>2023-08-23</td><td>NULL</td><td>108</td></tr>",
                            "<tr><td>13</td><td>4</td><td>2023-08-23</td><td>NULL</td><td>109</td></tr>",
                            "<tr><td>14</td><td>5</td><td>2023-08-23</td><td>NULL</td><td>110</td></tr>",
                            "<tr><td>15</td><td>6</td><td>2023-08-23</td><td>NULL</td><td>112</td></tr>",
                            "<tr><td>16</td><td>2</td><td>2023-08-23</td><td>NULL</td><td>107</td></tr>",
                            "<tr><td>17</td><td>3</td><td>2023-08-23</td><td>NULL</td><td>108</td></tr>",
                            "<tr><td>18</td><td>4</td><td>2023-08-23</td><td>NULL</td><td>109</td></tr>",
                            "<tr><td>19</td><td>5</td><td>2023-08-23</td><td>NULL</td><td>110</td></tr>",
                            "<tr><td>20</td><td>6</td><td>2023-08-23</td><td>NULL</td><td>112</td></tr>",
                            "</table>"
                        ]
                    }
                }
            ],
            "execution_count": 92
        },
        {
            "cell_type": "markdown",
            "source": [
                "## **Part F: Wrap-up Query**\n",
                "\n",
                "Create a query that returns the names of the patrons with the genre of every book they currently have checked out.\n",
                "\n",
                "Things to consider:  How are these tables related and connected to each other?\n",
                "\n",
                "> _Note:  If you find a NULL in your output instead of a loan id,   this is likely because there are multiple loans per patron.  Try_ _clearing out the loan table.  You can do this by either dropping the entire table or clearing specific rows._"
            ],
            "metadata": {
                "azdata_cell_guid": "9e29f561-1501-45ac-b6cf-f2136fe5097f"
            },
            "attachments": {}
        },
        {
            "cell_type": "code",
            "source": [
                "-- Create your Wrap-Up query here:\r\n",
                "\r\n",
                "SELECT p.first_name, p.last_name, g.genres,l.patron_id,b.book_id,b.title\r\n",
                "FROM JunkDB_STL_May2023.gomathy.patron p\r\n",
                "JOIN JunkDB_STL_May2023.gomathy.loan l ON p.patron_id = l.patron_id\r\n",
                "JOIN JunkDB_STL_May2023.gomathy.book b ON l.book_id = b.book_id\r\n",
                "JOIN JunkDB_STL_May2023.gomathy.genre g ON b.genre_id = g.genre_id\r\n",
                "WHERE l.date_in IS NULL;\r\n",
                "     "
            ],
            "metadata": {
                "azdata_cell_guid": "c568e7c2-283b-43ab-bf66-8982117c181b",
                "language": "sql"
            },
            "outputs": [
                {
                    "output_type": "display_data",
                    "data": {
                        "text/html": "(12 rows affected)"
                    },
                    "metadata": {}
                },
                {
                    "output_type": "display_data",
                    "data": {
                        "text/html": "Total execution time: 00:00:00.078"
                    },
                    "metadata": {}
                },
                {
                    "output_type": "execute_result",
                    "metadata": {},
                    "execution_count": 94,
                    "data": {
                        "application/vnd.dataresource+json": {
                            "schema": {
                                "fields": [
                                    {
                                        "name": "first_name"
                                    },
                                    {
                                        "name": "last_name"
                                    },
                                    {
                                        "name": "genres"
                                    },
                                    {
                                        "name": "patron_id"
                                    },
                                    {
                                        "name": "book_id"
                                    },
                                    {
                                        "name": "title"
                                    }
                                ]
                            },
                            "data": [
                                {
                                    "first_name": "Gillie",
                                    "last_name": "Fritz",
                                    "genres": "Adventure",
                                    "patron_id": "11",
                                    "book_id": "111",
                                    "title": "The Alchemist"
                                },
                                {
                                    "first_name": "Gillie",
                                    "last_name": "Fritz",
                                    "genres": "Adventure",
                                    "patron_id": "11",
                                    "book_id": "111",
                                    "title": "The Alchemist"
                                },
                                {
                                    "first_name": "Susan",
                                    "last_name": "Traviss",
                                    "genres": "Romance",
                                    "patron_id": "2",
                                    "book_id": "107",
                                    "title": "Romeo and Juliet"
                                },
                                {
                                    "first_name": "Vincent",
                                    "last_name": "Ritelli",
                                    "genres": "Fantasy",
                                    "patron_id": "3",
                                    "book_id": "108",
                                    "title": "The Golden Compass"
                                },
                                {
                                    "first_name": "Tasia",
                                    "last_name": "Laybourne",
                                    "genres": "Fantasy",
                                    "patron_id": "4",
                                    "book_id": "109",
                                    "title": "The Subtle Knife"
                                },
                                {
                                    "first_name": "Wren",
                                    "last_name": "Gergler",
                                    "genres": "Fantasy",
                                    "patron_id": "5",
                                    "book_id": "110",
                                    "title": "The Amber Spyglass"
                                },
                                {
                                    "first_name": "Tory",
                                    "last_name": "Lees",
                                    "genres": "Mystery",
                                    "patron_id": "6",
                                    "book_id": "112",
                                    "title": "And Then There Were None"
                                },
                                {
                                    "first_name": "Susan",
                                    "last_name": "Traviss",
                                    "genres": "Romance",
                                    "patron_id": "2",
                                    "book_id": "107",
                                    "title": "Romeo and Juliet"
                                },
                                {
                                    "first_name": "Vincent",
                                    "last_name": "Ritelli",
                                    "genres": "Fantasy",
                                    "patron_id": "3",
                                    "book_id": "108",
                                    "title": "The Golden Compass"
                                },
                                {
                                    "first_name": "Tasia",
                                    "last_name": "Laybourne",
                                    "genres": "Fantasy",
                                    "patron_id": "4",
                                    "book_id": "109",
                                    "title": "The Subtle Knife"
                                },
                                {
                                    "first_name": "Wren",
                                    "last_name": "Gergler",
                                    "genres": "Fantasy",
                                    "patron_id": "5",
                                    "book_id": "110",
                                    "title": "The Amber Spyglass"
                                },
                                {
                                    "first_name": "Tory",
                                    "last_name": "Lees",
                                    "genres": "Mystery",
                                    "patron_id": "6",
                                    "book_id": "112",
                                    "title": "And Then There Were None"
                                }
                            ]
                        },
                        "text/html": [
                            "<table>",
                            "<tr><th>first_name</th><th>last_name</th><th>genres</th><th>patron_id</th><th>book_id</th><th>title</th></tr>",
                            "<tr><td>Gillie</td><td>Fritz</td><td>Adventure</td><td>11</td><td>111</td><td>The Alchemist</td></tr>",
                            "<tr><td>Gillie</td><td>Fritz</td><td>Adventure</td><td>11</td><td>111</td><td>The Alchemist</td></tr>",
                            "<tr><td>Susan</td><td>Traviss</td><td>Romance</td><td>2</td><td>107</td><td>Romeo and Juliet</td></tr>",
                            "<tr><td>Vincent</td><td>Ritelli</td><td>Fantasy</td><td>3</td><td>108</td><td>The Golden Compass</td></tr>",
                            "<tr><td>Tasia</td><td>Laybourne</td><td>Fantasy</td><td>4</td><td>109</td><td>The Subtle Knife</td></tr>",
                            "<tr><td>Wren</td><td>Gergler</td><td>Fantasy</td><td>5</td><td>110</td><td>The Amber Spyglass</td></tr>",
                            "<tr><td>Tory</td><td>Lees</td><td>Mystery</td><td>6</td><td>112</td><td>And Then There Were None</td></tr>",
                            "<tr><td>Susan</td><td>Traviss</td><td>Romance</td><td>2</td><td>107</td><td>Romeo and Juliet</td></tr>",
                            "<tr><td>Vincent</td><td>Ritelli</td><td>Fantasy</td><td>3</td><td>108</td><td>The Golden Compass</td></tr>",
                            "<tr><td>Tasia</td><td>Laybourne</td><td>Fantasy</td><td>4</td><td>109</td><td>The Subtle Knife</td></tr>",
                            "<tr><td>Wren</td><td>Gergler</td><td>Fantasy</td><td>5</td><td>110</td><td>The Amber Spyglass</td></tr>",
                            "<tr><td>Tory</td><td>Lees</td><td>Mystery</td><td>6</td><td>112</td><td>And Then There Were None</td></tr>",
                            "</table>"
                        ]
                    }
                }
            ],
            "execution_count": 94
        },
        {
            "cell_type": "markdown",
            "source": [
                "## **Bonus Challenge:**\n",
                "\n",
                "This is an optional challenge.\n",
                "\n",
                "Create a new table for reference materials using the following code:\n",
                "\n",
                "```\n",
                "CREATE TABLE [DB].[schema].reference_books (\n",
                "    reference_id INT IDENTITY(1,1) PRIMARY KEY,\n",
                "    edition INT,\n",
                "    book_id INT,\n",
                "    book_id INT FOREIGN KEY REFERENCES [DB].[schema].book(book_id)\n",
                "        ON UPDATE SET NULL\n",
                "        ON DELETE SET NULL\n",
                ");\n",
                "```\n",
                "\n",
                "Fill the table with the following query:\n",
                "\n",
                "```\n",
                "INSERT INTO [DB].[schema].reference_books (edition, book_id)\n",
                "VALUE (5,32);\n",
                "```"
            ],
            "metadata": {
                "azdata_cell_guid": "863f5070-2fd7-4dfa-aaf8-dfc148362cec"
            },
            "attachments": {}
        },
        {
            "cell_type": "code",
            "source": [
                "-- Create and fill your reference table here:\n",
                "CREATE TABLE junkDB_stl_May2023.gomathy.reference_books (\n",
                "    reference_id INT IDENTITY(1,1) PRIMARY KEY,\n",
                "    edition INT,\n",
                "    book_id INT,\n",
                "    book_id INT FOREIGN KEY REFERENCES junkDB_stl_May2023.gomathy.book(book_id)\n",
                "        ON UPDATE SET NULL\n",
                "        ON DELETE SET NULL\n",
                ");\n",
                "INSERT INTO junkDB_stl_May2023.gomathy.reference_books (edition, book_id)\n",
                "VALUE (5,32);"
            ],
            "metadata": {
                "azdata_cell_guid": "b7699c0f-e06b-429b-bd94-9cca18968797",
                "language": "sql",
                "tags": []
            },
            "outputs": [],
            "execution_count": null
        },
        {
            "cell_type": "markdown",
            "source": [
                "<span style=\"font-size: 14px; font-family: -apple-system, BlinkMacSystemFont, sans-serif;\">A reference book cannot leave the library.&nbsp; How would you modify either the <b>reference_book</b> table or the <b>book</b> table to make sure that doesn't happen?&nbsp; Try to apply your modifications.</span>"
            ],
            "metadata": {
                "azdata_cell_guid": "e647d002-c3ae-415c-9fb3-c2e8c7e5ec7f"
            },
            "attachments": {}
        },
        {
            "cell_type": "code",
            "source": [
                "-- Code your query here:"
            ],
            "metadata": {
                "azdata_cell_guid": "f8c66034-a75e-4fd3-96ac-50e25fd73263",
                "language": "sql"
            },
            "outputs": [],
            "execution_count": null
        }
    ]
}